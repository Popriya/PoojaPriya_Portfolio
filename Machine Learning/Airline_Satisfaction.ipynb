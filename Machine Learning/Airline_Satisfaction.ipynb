{
 "cells": [
  {
   "cell_type": "code",
   "execution_count": 3,
   "metadata": {},
   "outputs": [],
   "source": [
    "from IPython.core.interactiveshell import InteractiveShell\n",
    "InteractiveShell.ast_node_interactivity = \"all\"\n",
    "%matplotlib inline\n",
    "\n",
    "import os\n",
    "import numpy as np\n",
    "import pandas as pd\n",
    "import seaborn as sns\n",
    "import matplotlib.pyplot as plt\n",
    "import sklearn "
   ]
  },
  {
   "cell_type": "code",
   "execution_count": 37,
   "metadata": {},
   "outputs": [],
   "source": [
    "airline_df = pd.read_excel(\"Airline_Satisfaction.xlsx\")\n",
    "file_path= \"/Users/abhinava/Desktop/College_courses/portfolia/airline_satis.csv\"\n",
    "airline_df_csv = airline_df.to_csv(file_path,index=False)"
   ]
  },
  {
   "cell_type": "markdown",
   "metadata": {},
   "source": [
    "Shape of the data in airline dataframe"
   ]
  },
  {
   "cell_type": "code",
   "execution_count": 38,
   "metadata": {},
   "outputs": [
    {
     "data": {
      "text/plain": [
       "(103907, 18)"
      ]
     },
     "execution_count": 38,
     "metadata": {},
     "output_type": "execute_result"
    }
   ],
   "source": [
    "airline_df.shape"
   ]
  },
  {
   "cell_type": "code",
   "execution_count": 39,
   "metadata": {},
   "outputs": [
    {
     "data": {
      "text/html": [
       "<div>\n",
       "<style scoped>\n",
       "    .dataframe tbody tr th:only-of-type {\n",
       "        vertical-align: middle;\n",
       "    }\n",
       "\n",
       "    .dataframe tbody tr th {\n",
       "        vertical-align: top;\n",
       "    }\n",
       "\n",
       "    .dataframe thead th {\n",
       "        text-align: right;\n",
       "    }\n",
       "</style>\n",
       "<table border=\"1\" class=\"dataframe\">\n",
       "  <thead>\n",
       "    <tr style=\"text-align: right;\">\n",
       "      <th></th>\n",
       "      <th>id</th>\n",
       "      <th>Gender</th>\n",
       "      <th>Customer_Type</th>\n",
       "      <th>Age</th>\n",
       "      <th>Type_of_Travel</th>\n",
       "      <th>Class</th>\n",
       "      <th>Flight_Distance</th>\n",
       "      <th>Inflight_wifi_service</th>\n",
       "      <th>Food_and_drink</th>\n",
       "      <th>Online_boarding</th>\n",
       "      <th>Inflight_entertainment</th>\n",
       "      <th>On-board_service</th>\n",
       "      <th>Baggage_handling</th>\n",
       "      <th>Inflight_service</th>\n",
       "      <th>Cleanliness</th>\n",
       "      <th>Departure_Delay_in_Minutes</th>\n",
       "      <th>Arrival_Delay_in_Minutes</th>\n",
       "      <th>satisfaction</th>\n",
       "    </tr>\n",
       "  </thead>\n",
       "  <tbody>\n",
       "    <tr>\n",
       "      <th>0</th>\n",
       "      <td>70172.0</td>\n",
       "      <td>Male</td>\n",
       "      <td>Loyal Customer</td>\n",
       "      <td>13.0</td>\n",
       "      <td>Personal Travel</td>\n",
       "      <td>Eco Plus</td>\n",
       "      <td>460.0</td>\n",
       "      <td>3</td>\n",
       "      <td>5.0</td>\n",
       "      <td>3.0</td>\n",
       "      <td>5.0</td>\n",
       "      <td>4.0</td>\n",
       "      <td>4.0</td>\n",
       "      <td>5.0</td>\n",
       "      <td>5.0</td>\n",
       "      <td>25.0</td>\n",
       "      <td>18.0</td>\n",
       "      <td>neutral or dissatisfied</td>\n",
       "    </tr>\n",
       "    <tr>\n",
       "      <th>1</th>\n",
       "      <td>5047.0</td>\n",
       "      <td>Male</td>\n",
       "      <td>disloyal Customer</td>\n",
       "      <td>25.0</td>\n",
       "      <td>Business travel</td>\n",
       "      <td>Business</td>\n",
       "      <td>235.0</td>\n",
       "      <td>3</td>\n",
       "      <td>1.0</td>\n",
       "      <td>3.0</td>\n",
       "      <td>1.0</td>\n",
       "      <td>1.0</td>\n",
       "      <td>3.0</td>\n",
       "      <td>4.0</td>\n",
       "      <td>1.0</td>\n",
       "      <td>1.0</td>\n",
       "      <td>6.0</td>\n",
       "      <td>neutral or dissatisfied</td>\n",
       "    </tr>\n",
       "    <tr>\n",
       "      <th>2</th>\n",
       "      <td>110028.0</td>\n",
       "      <td>Female</td>\n",
       "      <td>Loyal Customer</td>\n",
       "      <td>26.0</td>\n",
       "      <td>Business travel</td>\n",
       "      <td>Business</td>\n",
       "      <td>1142.0</td>\n",
       "      <td>2</td>\n",
       "      <td>5.0</td>\n",
       "      <td>5.0</td>\n",
       "      <td>5.0</td>\n",
       "      <td>4.0</td>\n",
       "      <td>4.0</td>\n",
       "      <td>4.0</td>\n",
       "      <td>5.0</td>\n",
       "      <td>0.0</td>\n",
       "      <td>0.0</td>\n",
       "      <td>satisfied</td>\n",
       "    </tr>\n",
       "    <tr>\n",
       "      <th>3</th>\n",
       "      <td>24026.0</td>\n",
       "      <td>Female</td>\n",
       "      <td>Loyal Customer</td>\n",
       "      <td>25.0</td>\n",
       "      <td>Business travel</td>\n",
       "      <td>Business</td>\n",
       "      <td>562.0</td>\n",
       "      <td>2</td>\n",
       "      <td>2.0</td>\n",
       "      <td>2.0</td>\n",
       "      <td>2.0</td>\n",
       "      <td>2.0</td>\n",
       "      <td>3.0</td>\n",
       "      <td>4.0</td>\n",
       "      <td>2.0</td>\n",
       "      <td>11.0</td>\n",
       "      <td>9.0</td>\n",
       "      <td>neutral or dissatisfied</td>\n",
       "    </tr>\n",
       "    <tr>\n",
       "      <th>4</th>\n",
       "      <td>119299.0</td>\n",
       "      <td>Male</td>\n",
       "      <td>Loyal Customer</td>\n",
       "      <td>61.0</td>\n",
       "      <td>Business travel</td>\n",
       "      <td>Business</td>\n",
       "      <td>214.0</td>\n",
       "      <td>3</td>\n",
       "      <td>4.0</td>\n",
       "      <td>5.0</td>\n",
       "      <td>3.0</td>\n",
       "      <td>3.0</td>\n",
       "      <td>4.0</td>\n",
       "      <td>3.0</td>\n",
       "      <td>3.0</td>\n",
       "      <td>0.0</td>\n",
       "      <td>0.0</td>\n",
       "      <td>satisfied</td>\n",
       "    </tr>\n",
       "    <tr>\n",
       "      <th>...</th>\n",
       "      <td>...</td>\n",
       "      <td>...</td>\n",
       "      <td>...</td>\n",
       "      <td>...</td>\n",
       "      <td>...</td>\n",
       "      <td>...</td>\n",
       "      <td>...</td>\n",
       "      <td>...</td>\n",
       "      <td>...</td>\n",
       "      <td>...</td>\n",
       "      <td>...</td>\n",
       "      <td>...</td>\n",
       "      <td>...</td>\n",
       "      <td>...</td>\n",
       "      <td>...</td>\n",
       "      <td>...</td>\n",
       "      <td>...</td>\n",
       "      <td>...</td>\n",
       "    </tr>\n",
       "    <tr>\n",
       "      <th>95</th>\n",
       "      <td>15138.0</td>\n",
       "      <td>Female</td>\n",
       "      <td>Loyal Customer</td>\n",
       "      <td>32.0</td>\n",
       "      <td>Business travel</td>\n",
       "      <td>Eco</td>\n",
       "      <td>1042.0</td>\n",
       "      <td>4</td>\n",
       "      <td>4.0</td>\n",
       "      <td>4.0</td>\n",
       "      <td>4.0</td>\n",
       "      <td>4.0</td>\n",
       "      <td>1.0</td>\n",
       "      <td>2.0</td>\n",
       "      <td>4.0</td>\n",
       "      <td>35.0</td>\n",
       "      <td>34.0</td>\n",
       "      <td>satisfied</td>\n",
       "    </tr>\n",
       "    <tr>\n",
       "      <th>96</th>\n",
       "      <td>123589.0</td>\n",
       "      <td>Female</td>\n",
       "      <td>Loyal Customer</td>\n",
       "      <td>39.0</td>\n",
       "      <td>Personal Travel</td>\n",
       "      <td>Eco</td>\n",
       "      <td>1773.0</td>\n",
       "      <td>4</td>\n",
       "      <td>5.0</td>\n",
       "      <td>4.0</td>\n",
       "      <td>5.0</td>\n",
       "      <td>2.0</td>\n",
       "      <td>3.0</td>\n",
       "      <td>1.0</td>\n",
       "      <td>5.0</td>\n",
       "      <td>14.0</td>\n",
       "      <td>18.0</td>\n",
       "      <td>neutral or dissatisfied</td>\n",
       "    </tr>\n",
       "    <tr>\n",
       "      <th>97</th>\n",
       "      <td>114534.0</td>\n",
       "      <td>Male</td>\n",
       "      <td>Loyal Customer</td>\n",
       "      <td>19.0</td>\n",
       "      <td>Personal Travel</td>\n",
       "      <td>Business</td>\n",
       "      <td>342.0</td>\n",
       "      <td>3</td>\n",
       "      <td>3.0</td>\n",
       "      <td>3.0</td>\n",
       "      <td>3.0</td>\n",
       "      <td>2.0</td>\n",
       "      <td>3.0</td>\n",
       "      <td>3.0</td>\n",
       "      <td>3.0</td>\n",
       "      <td>0.0</td>\n",
       "      <td>0.0</td>\n",
       "      <td>neutral or dissatisfied</td>\n",
       "    </tr>\n",
       "    <tr>\n",
       "      <th>98</th>\n",
       "      <td>93076.0</td>\n",
       "      <td>Female</td>\n",
       "      <td>Loyal Customer</td>\n",
       "      <td>15.0</td>\n",
       "      <td>Personal Travel</td>\n",
       "      <td>Eco Plus</td>\n",
       "      <td>297.0</td>\n",
       "      <td>1</td>\n",
       "      <td>5.0</td>\n",
       "      <td>1.0</td>\n",
       "      <td>5.0</td>\n",
       "      <td>5.0</td>\n",
       "      <td>1.0</td>\n",
       "      <td>4.0</td>\n",
       "      <td>5.0</td>\n",
       "      <td>67.0</td>\n",
       "      <td>62.0</td>\n",
       "      <td>neutral or dissatisfied</td>\n",
       "    </tr>\n",
       "    <tr>\n",
       "      <th>99</th>\n",
       "      <td>96963.0</td>\n",
       "      <td>Female</td>\n",
       "      <td>disloyal Customer</td>\n",
       "      <td>42.0</td>\n",
       "      <td>Business travel</td>\n",
       "      <td>Business</td>\n",
       "      <td>883.0</td>\n",
       "      <td>3</td>\n",
       "      <td>3.0</td>\n",
       "      <td>3.0</td>\n",
       "      <td>3.0</td>\n",
       "      <td>5.0</td>\n",
       "      <td>4.0</td>\n",
       "      <td>4.0</td>\n",
       "      <td>3.0</td>\n",
       "      <td>22.0</td>\n",
       "      <td>27.0</td>\n",
       "      <td>satisfied</td>\n",
       "    </tr>\n",
       "  </tbody>\n",
       "</table>\n",
       "<p>100 rows × 18 columns</p>\n",
       "</div>"
      ],
      "text/plain": [
       "          id  Gender      Customer_Type   Age   Type_of_Travel     Class  \\\n",
       "0    70172.0    Male     Loyal Customer  13.0  Personal Travel  Eco Plus   \n",
       "1     5047.0    Male  disloyal Customer  25.0  Business travel  Business   \n",
       "2   110028.0  Female     Loyal Customer  26.0  Business travel  Business   \n",
       "3    24026.0  Female     Loyal Customer  25.0  Business travel  Business   \n",
       "4   119299.0    Male     Loyal Customer  61.0  Business travel  Business   \n",
       "..       ...     ...                ...   ...              ...       ...   \n",
       "95   15138.0  Female     Loyal Customer  32.0  Business travel       Eco   \n",
       "96  123589.0  Female     Loyal Customer  39.0  Personal Travel       Eco   \n",
       "97  114534.0    Male     Loyal Customer  19.0  Personal Travel  Business   \n",
       "98   93076.0  Female     Loyal Customer  15.0  Personal Travel  Eco Plus   \n",
       "99   96963.0  Female  disloyal Customer  42.0  Business travel  Business   \n",
       "\n",
       "    Flight_Distance  Inflight_wifi_service  Food_and_drink  Online_boarding  \\\n",
       "0             460.0                      3             5.0              3.0   \n",
       "1             235.0                      3             1.0              3.0   \n",
       "2            1142.0                      2             5.0              5.0   \n",
       "3             562.0                      2             2.0              2.0   \n",
       "4             214.0                      3             4.0              5.0   \n",
       "..              ...                    ...             ...              ...   \n",
       "95           1042.0                      4             4.0              4.0   \n",
       "96           1773.0                      4             5.0              4.0   \n",
       "97            342.0                      3             3.0              3.0   \n",
       "98            297.0                      1             5.0              1.0   \n",
       "99            883.0                      3             3.0              3.0   \n",
       "\n",
       "    Inflight_entertainment  On-board_service  Baggage_handling  \\\n",
       "0                      5.0               4.0               4.0   \n",
       "1                      1.0               1.0               3.0   \n",
       "2                      5.0               4.0               4.0   \n",
       "3                      2.0               2.0               3.0   \n",
       "4                      3.0               3.0               4.0   \n",
       "..                     ...               ...               ...   \n",
       "95                     4.0               4.0               1.0   \n",
       "96                     5.0               2.0               3.0   \n",
       "97                     3.0               2.0               3.0   \n",
       "98                     5.0               5.0               1.0   \n",
       "99                     3.0               5.0               4.0   \n",
       "\n",
       "    Inflight_service  Cleanliness  Departure_Delay_in_Minutes  \\\n",
       "0                5.0          5.0                        25.0   \n",
       "1                4.0          1.0                         1.0   \n",
       "2                4.0          5.0                         0.0   \n",
       "3                4.0          2.0                        11.0   \n",
       "4                3.0          3.0                         0.0   \n",
       "..               ...          ...                         ...   \n",
       "95               2.0          4.0                        35.0   \n",
       "96               1.0          5.0                        14.0   \n",
       "97               3.0          3.0                         0.0   \n",
       "98               4.0          5.0                        67.0   \n",
       "99               4.0          3.0                        22.0   \n",
       "\n",
       "    Arrival_Delay_in_Minutes             satisfaction  \n",
       "0                       18.0  neutral or dissatisfied  \n",
       "1                        6.0  neutral or dissatisfied  \n",
       "2                        0.0                satisfied  \n",
       "3                        9.0  neutral or dissatisfied  \n",
       "4                        0.0                satisfied  \n",
       "..                       ...                      ...  \n",
       "95                      34.0                satisfied  \n",
       "96                      18.0  neutral or dissatisfied  \n",
       "97                       0.0  neutral or dissatisfied  \n",
       "98                      62.0  neutral or dissatisfied  \n",
       "99                      27.0                satisfied  \n",
       "\n",
       "[100 rows x 18 columns]"
      ]
     },
     "execution_count": 39,
     "metadata": {},
     "output_type": "execute_result"
    }
   ],
   "source": [
    "airline_df.head(100)"
   ]
  },
  {
   "cell_type": "markdown",
   "metadata": {},
   "source": [
    "Shape of data set is 103907 rows and 24 columns. The target variable is satisfaction of the passengers flying with the airlines."
   ]
  },
  {
   "cell_type": "code",
   "execution_count": 7,
   "metadata": {},
   "outputs": [],
   "source": [
    "#Features available in the dataset to determine the satisfaction level of the passengers boarding airlines"
   ]
  },
  {
   "cell_type": "code",
   "execution_count": 40,
   "metadata": {},
   "outputs": [
    {
     "data": {
      "text/plain": [
       "array(['id', 'Gender', 'Customer_Type', 'Age', 'Type_of_Travel', 'Class',\n",
       "       'Flight_Distance', 'Inflight_wifi_service', 'Food_and_drink',\n",
       "       'Online_boarding', 'Inflight_entertainment', 'On-board_service',\n",
       "       'Baggage_handling', 'Inflight_service', 'Cleanliness',\n",
       "       'Departure_Delay_in_Minutes', 'Arrival_Delay_in_Minutes',\n",
       "       'satisfaction'], dtype=object)"
      ]
     },
     "execution_count": 40,
     "metadata": {},
     "output_type": "execute_result"
    }
   ],
   "source": [
    "airline_df.columns.values"
   ]
  },
  {
   "cell_type": "code",
   "execution_count": 41,
   "metadata": {},
   "outputs": [
    {
     "data": {
      "text/plain": [
       "id                            float64\n",
       "Gender                         object\n",
       "Customer_Type                  object\n",
       "Age                           float64\n",
       "Type_of_Travel                 object\n",
       "Class                          object\n",
       "Flight_Distance               float64\n",
       "Inflight_wifi_service           int64\n",
       "Food_and_drink                float64\n",
       "Online_boarding               float64\n",
       "Inflight_entertainment        float64\n",
       "On-board_service              float64\n",
       "Baggage_handling              float64\n",
       "Inflight_service              float64\n",
       "Cleanliness                   float64\n",
       "Departure_Delay_in_Minutes    float64\n",
       "Arrival_Delay_in_Minutes      float64\n",
       "satisfaction                   object\n",
       "dtype: object"
      ]
     },
     "execution_count": 41,
     "metadata": {},
     "output_type": "execute_result"
    }
   ],
   "source": [
    "airline_df.dtypes"
   ]
  },
  {
   "cell_type": "markdown",
   "metadata": {},
   "source": [
    "Out of 24 features Gender, 5 i.e Customer Type, Type of Travel, Class and Satisfaction are object type. \n",
    "Inflight wifi service is integer type and rest 18 features like Age,Flight distance etc are all\n",
    "float data types."
   ]
  },
  {
   "cell_type": "code",
   "execution_count": 42,
   "metadata": {},
   "outputs": [],
   "source": [
    "airline_new_df = airline_df[['Gender','Age','Inflight_wifi_service',\n",
    "                             'Departure_Delay_in_Minutes','Arrival_Delay_in_Minutes','satisfaction']]"
   ]
  },
  {
   "cell_type": "code",
   "execution_count": 43,
   "metadata": {},
   "outputs": [
    {
     "name": "stdout",
     "output_type": "stream",
     "text": [
      "<class 'pandas.core.frame.DataFrame'>\n",
      "RangeIndex: 103907 entries, 0 to 103906\n",
      "Data columns (total 6 columns):\n",
      " #   Column                      Non-Null Count   Dtype  \n",
      "---  ------                      --------------   -----  \n",
      " 0   Gender                      103904 non-null  object \n",
      " 1   Age                         103904 non-null  float64\n",
      " 2   Inflight_wifi_service       103907 non-null  int64  \n",
      " 3   Departure_Delay_in_Minutes  103904 non-null  float64\n",
      " 4   Arrival_Delay_in_Minutes    103594 non-null  float64\n",
      " 5   satisfaction                103904 non-null  object \n",
      "dtypes: float64(3), int64(1), object(2)\n",
      "memory usage: 4.8+ MB\n"
     ]
    }
   ],
   "source": [
    "airline_new_df.info()"
   ]
  },
  {
   "cell_type": "code",
   "execution_count": 44,
   "metadata": {},
   "outputs": [
    {
     "data": {
      "text/html": [
       "<div>\n",
       "<style scoped>\n",
       "    .dataframe tbody tr th:only-of-type {\n",
       "        vertical-align: middle;\n",
       "    }\n",
       "\n",
       "    .dataframe tbody tr th {\n",
       "        vertical-align: top;\n",
       "    }\n",
       "\n",
       "    .dataframe thead th {\n",
       "        text-align: right;\n",
       "    }\n",
       "</style>\n",
       "<table border=\"1\" class=\"dataframe\">\n",
       "  <thead>\n",
       "    <tr style=\"text-align: right;\">\n",
       "      <th></th>\n",
       "      <th>Gender</th>\n",
       "      <th>Age</th>\n",
       "      <th>Inflight_wifi_service</th>\n",
       "      <th>Departure_Delay_in_Minutes</th>\n",
       "      <th>Arrival_Delay_in_Minutes</th>\n",
       "      <th>satisfaction</th>\n",
       "    </tr>\n",
       "  </thead>\n",
       "  <tbody>\n",
       "    <tr>\n",
       "      <th>0</th>\n",
       "      <td>Male</td>\n",
       "      <td>13.0</td>\n",
       "      <td>3</td>\n",
       "      <td>25.0</td>\n",
       "      <td>18.0</td>\n",
       "      <td>neutral or dissatisfied</td>\n",
       "    </tr>\n",
       "    <tr>\n",
       "      <th>1</th>\n",
       "      <td>Male</td>\n",
       "      <td>25.0</td>\n",
       "      <td>3</td>\n",
       "      <td>1.0</td>\n",
       "      <td>6.0</td>\n",
       "      <td>neutral or dissatisfied</td>\n",
       "    </tr>\n",
       "    <tr>\n",
       "      <th>2</th>\n",
       "      <td>Female</td>\n",
       "      <td>26.0</td>\n",
       "      <td>2</td>\n",
       "      <td>0.0</td>\n",
       "      <td>0.0</td>\n",
       "      <td>satisfied</td>\n",
       "    </tr>\n",
       "    <tr>\n",
       "      <th>3</th>\n",
       "      <td>Female</td>\n",
       "      <td>25.0</td>\n",
       "      <td>2</td>\n",
       "      <td>11.0</td>\n",
       "      <td>9.0</td>\n",
       "      <td>neutral or dissatisfied</td>\n",
       "    </tr>\n",
       "    <tr>\n",
       "      <th>4</th>\n",
       "      <td>Male</td>\n",
       "      <td>61.0</td>\n",
       "      <td>3</td>\n",
       "      <td>0.0</td>\n",
       "      <td>0.0</td>\n",
       "      <td>satisfied</td>\n",
       "    </tr>\n",
       "    <tr>\n",
       "      <th>5</th>\n",
       "      <td>Female</td>\n",
       "      <td>26.0</td>\n",
       "      <td>3</td>\n",
       "      <td>0.0</td>\n",
       "      <td>0.0</td>\n",
       "      <td>neutral or dissatisfied</td>\n",
       "    </tr>\n",
       "    <tr>\n",
       "      <th>6</th>\n",
       "      <td>Male</td>\n",
       "      <td>47.0</td>\n",
       "      <td>2</td>\n",
       "      <td>9.0</td>\n",
       "      <td>23.0</td>\n",
       "      <td>neutral or dissatisfied</td>\n",
       "    </tr>\n",
       "    <tr>\n",
       "      <th>7</th>\n",
       "      <td>Female</td>\n",
       "      <td>52.0</td>\n",
       "      <td>4</td>\n",
       "      <td>4.0</td>\n",
       "      <td>0.0</td>\n",
       "      <td>satisfied</td>\n",
       "    </tr>\n",
       "    <tr>\n",
       "      <th>8</th>\n",
       "      <td>Female</td>\n",
       "      <td>41.0</td>\n",
       "      <td>1</td>\n",
       "      <td>0.0</td>\n",
       "      <td>0.0</td>\n",
       "      <td>neutral or dissatisfied</td>\n",
       "    </tr>\n",
       "    <tr>\n",
       "      <th>9</th>\n",
       "      <td>Male</td>\n",
       "      <td>20.0</td>\n",
       "      <td>3</td>\n",
       "      <td>0.0</td>\n",
       "      <td>0.0</td>\n",
       "      <td>neutral or dissatisfied</td>\n",
       "    </tr>\n",
       "    <tr>\n",
       "      <th>10</th>\n",
       "      <td>Female</td>\n",
       "      <td>24.0</td>\n",
       "      <td>4</td>\n",
       "      <td>0.0</td>\n",
       "      <td>0.0</td>\n",
       "      <td>neutral or dissatisfied</td>\n",
       "    </tr>\n",
       "    <tr>\n",
       "      <th>11</th>\n",
       "      <td>Female</td>\n",
       "      <td>12.0</td>\n",
       "      <td>2</td>\n",
       "      <td>0.0</td>\n",
       "      <td>0.0</td>\n",
       "      <td>neutral or dissatisfied</td>\n",
       "    </tr>\n",
       "    <tr>\n",
       "      <th>12</th>\n",
       "      <td>Male</td>\n",
       "      <td>53.0</td>\n",
       "      <td>1</td>\n",
       "      <td>28.0</td>\n",
       "      <td>8.0</td>\n",
       "      <td>neutral or dissatisfied</td>\n",
       "    </tr>\n",
       "    <tr>\n",
       "      <th>13</th>\n",
       "      <td>Male</td>\n",
       "      <td>33.0</td>\n",
       "      <td>4</td>\n",
       "      <td>0.0</td>\n",
       "      <td>0.0</td>\n",
       "      <td>satisfied</td>\n",
       "    </tr>\n",
       "    <tr>\n",
       "      <th>14</th>\n",
       "      <td>Female</td>\n",
       "      <td>26.0</td>\n",
       "      <td>3</td>\n",
       "      <td>43.0</td>\n",
       "      <td>35.0</td>\n",
       "      <td>neutral or dissatisfied</td>\n",
       "    </tr>\n",
       "  </tbody>\n",
       "</table>\n",
       "</div>"
      ],
      "text/plain": [
       "    Gender   Age  Inflight_wifi_service  Departure_Delay_in_Minutes  \\\n",
       "0     Male  13.0                      3                        25.0   \n",
       "1     Male  25.0                      3                         1.0   \n",
       "2   Female  26.0                      2                         0.0   \n",
       "3   Female  25.0                      2                        11.0   \n",
       "4     Male  61.0                      3                         0.0   \n",
       "5   Female  26.0                      3                         0.0   \n",
       "6     Male  47.0                      2                         9.0   \n",
       "7   Female  52.0                      4                         4.0   \n",
       "8   Female  41.0                      1                         0.0   \n",
       "9     Male  20.0                      3                         0.0   \n",
       "10  Female  24.0                      4                         0.0   \n",
       "11  Female  12.0                      2                         0.0   \n",
       "12    Male  53.0                      1                        28.0   \n",
       "13    Male  33.0                      4                         0.0   \n",
       "14  Female  26.0                      3                        43.0   \n",
       "\n",
       "    Arrival_Delay_in_Minutes             satisfaction  \n",
       "0                       18.0  neutral or dissatisfied  \n",
       "1                        6.0  neutral or dissatisfied  \n",
       "2                        0.0                satisfied  \n",
       "3                        9.0  neutral or dissatisfied  \n",
       "4                        0.0                satisfied  \n",
       "5                        0.0  neutral or dissatisfied  \n",
       "6                       23.0  neutral or dissatisfied  \n",
       "7                        0.0                satisfied  \n",
       "8                        0.0  neutral or dissatisfied  \n",
       "9                        0.0  neutral or dissatisfied  \n",
       "10                       0.0  neutral or dissatisfied  \n",
       "11                       0.0  neutral or dissatisfied  \n",
       "12                       8.0  neutral or dissatisfied  \n",
       "13                       0.0                satisfied  \n",
       "14                      35.0  neutral or dissatisfied  "
      ]
     },
     "execution_count": 44,
     "metadata": {},
     "output_type": "execute_result"
    }
   ],
   "source": [
    "airline_new_df.head(15)"
   ]
  },
  {
   "cell_type": "markdown",
   "metadata": {},
   "source": [
    "Data Cleaning"
   ]
  },
  {
   "cell_type": "code",
   "execution_count": 45,
   "metadata": {},
   "outputs": [
    {
     "data": {
      "text/plain": [
       "Gender                         True\n",
       "Age                            True\n",
       "Inflight_wifi_service         False\n",
       "Departure_Delay_in_Minutes     True\n",
       "Arrival_Delay_in_Minutes       True\n",
       "satisfaction                   True\n",
       "dtype: bool"
      ]
     },
     "execution_count": 45,
     "metadata": {},
     "output_type": "execute_result"
    }
   ],
   "source": [
    "airline_new_df.isnull().any()"
   ]
  },
  {
   "cell_type": "markdown",
   "metadata": {},
   "source": [
    "#We can see from the above output that there are missing values in 6 features except Inflight wifi service. Thus we will clean the data of Arrival_Delay_in_Minutes column by dropping rows with missing values."
   ]
  },
  {
   "cell_type": "code",
   "execution_count": 46,
   "metadata": {},
   "outputs": [
    {
     "data": {
      "text/plain": [
       "(103907, 6)"
      ]
     },
     "execution_count": 46,
     "metadata": {},
     "output_type": "execute_result"
    }
   ],
   "source": [
    "airline_new_df.shape"
   ]
  },
  {
   "cell_type": "markdown",
   "metadata": {},
   "source": [
    "#Plotted missing data with a Seaborn heatmap"
   ]
  },
  {
   "cell_type": "code",
   "execution_count": 47,
   "metadata": {},
   "outputs": [
    {
     "data": {
      "text/plain": [
       "<AxesSubplot:>"
      ]
     },
     "execution_count": 47,
     "metadata": {},
     "output_type": "execute_result"
    },
    {
     "data": {
      "image/png": "[encoded data removed]",
      "text/plain": [
       "<Figure size 432x288 with 1 Axes>"
      ]
     },
     "metadata": {
      "needs_background": "light"
     },
     "output_type": "display_data"
    }
   ],
   "source": [
    "sns.heatmap(airline_new_df.isnull(), cbar=False)"
   ]
  },
  {
   "cell_type": "code",
   "execution_count": 51,
   "metadata": {},
   "outputs": [],
   "source": [
    "airline_cleaned_df = airline_new_df.dropna(subset=['Arrival_Delay_in_Minutes'])"
   ]
  },
  {
   "cell_type": "code",
   "execution_count": 52,
   "metadata": {},
   "outputs": [
    {
     "data": {
      "text/plain": [
       "(103594, 6)"
      ]
     },
     "execution_count": 52,
     "metadata": {},
     "output_type": "execute_result"
    }
   ],
   "source": [
    "airline_cleaned_df.shape"
   ]
  },
  {
   "cell_type": "code",
   "execution_count": 53,
   "metadata": {},
   "outputs": [
    {
     "data": {
      "text/plain": [
       "Gender                        False\n",
       "Age                           False\n",
       "Inflight_wifi_service         False\n",
       "Departure_Delay_in_Minutes    False\n",
       "Arrival_Delay_in_Minutes      False\n",
       "satisfaction                  False\n",
       "dtype: bool"
      ]
     },
     "execution_count": 53,
     "metadata": {},
     "output_type": "execute_result"
    }
   ],
   "source": [
    "airline_cleaned_df.isnull().any()"
   ]
  },
  {
   "cell_type": "markdown",
   "metadata": {},
   "source": [
    "Now data is cleaned and there in no missing values in columns. "
   ]
  },
  {
   "cell_type": "markdown",
   "metadata": {},
   "source": [
    "We have some feature variables that needs to be converted into numeric so that the machine learning algorithms can process the features well.\n",
    "Since machine learning algorithms need only numerical data and here we're focusing on gender, type of travel, Inflight wifi service, Food and drink, Departure Delay in Minutes, Arrival Delay in Minutes out of which Inflight wifi service is an integer type, Gender, Type of travel and target variable satisfaction are of object types. Even though Inflight wifi service is of type int, since it represents categorical data, Inflight wifi service along with gender, Type of travel and target variable satisfaction need transformations. So, using dummification, we create dummy variables for Inflight wifi service, gender, Type of travel and target variable satisfaction columns using sklearn library.\n",
    "\n",
    "For this, we see the distinct categories in each column and we create new columns for each of these distinct categories and add value 1 in the category column for which it indicates true or else 0. 'get_dummies' function converts categorical variable into dummy/indicator variables. \"pd.get_dummies\" creates a new dataframe which will have '1' and '0'. We will see that below"
   ]
  },
  {
   "cell_type": "code",
   "execution_count": 55,
   "metadata": {},
   "outputs": [
    {
     "data": {
      "text/plain": [
       "0"
      ]
     },
     "execution_count": 55,
     "metadata": {},
     "output_type": "execute_result"
    }
   ],
   "source": [
    "airline_cleaned_df['Arrival_Delay_in_Minutes'].isna().sum()"
   ]
  },
  {
   "cell_type": "code",
   "execution_count": 56,
   "metadata": {},
   "outputs": [
    {
     "data": {
      "text/html": [
       "<div>\n",
       "<style scoped>\n",
       "    .dataframe tbody tr th:only-of-type {\n",
       "        vertical-align: middle;\n",
       "    }\n",
       "\n",
       "    .dataframe tbody tr th {\n",
       "        vertical-align: top;\n",
       "    }\n",
       "\n",
       "    .dataframe thead th {\n",
       "        text-align: right;\n",
       "    }\n",
       "</style>\n",
       "<table border=\"1\" class=\"dataframe\">\n",
       "  <thead>\n",
       "    <tr style=\"text-align: right;\">\n",
       "      <th></th>\n",
       "      <th>Age</th>\n",
       "      <th>Inflight_wifi_service</th>\n",
       "      <th>Departure_Delay_in_Minutes</th>\n",
       "      <th>Arrival_Delay_in_Minutes</th>\n",
       "    </tr>\n",
       "    <tr>\n",
       "      <th>satisfaction</th>\n",
       "      <th></th>\n",
       "      <th></th>\n",
       "      <th></th>\n",
       "      <th></th>\n",
       "    </tr>\n",
       "  </thead>\n",
       "  <tbody>\n",
       "    <tr>\n",
       "      <th>neutral or dissatisfied</th>\n",
       "      <td>37.569126</td>\n",
       "      <td>2.399748</td>\n",
       "      <td>16.431913</td>\n",
       "      <td>17.127536</td>\n",
       "    </tr>\n",
       "    <tr>\n",
       "      <th>satisfied</th>\n",
       "      <td>41.748558</td>\n",
       "      <td>3.161191</td>\n",
       "      <td>12.546362</td>\n",
       "      <td>12.630799</td>\n",
       "    </tr>\n",
       "  </tbody>\n",
       "</table>\n",
       "</div>"
      ],
      "text/plain": [
       "                               Age  Inflight_wifi_service  \\\n",
       "satisfaction                                                \n",
       "neutral or dissatisfied  37.569126               2.399748   \n",
       "satisfied                41.748558               3.161191   \n",
       "\n",
       "                         Departure_Delay_in_Minutes  Arrival_Delay_in_Minutes  \n",
       "satisfaction                                                                   \n",
       "neutral or dissatisfied                   16.431913                 17.127536  \n",
       "satisfied                                 12.546362                 12.630799  "
      ]
     },
     "execution_count": 56,
     "metadata": {},
     "output_type": "execute_result"
    }
   ],
   "source": [
    "airline_cleaned_df.groupby('satisfaction').mean()"
   ]
  },
  {
   "cell_type": "markdown",
   "metadata": {},
   "source": [
    "Passengers with mean age of 37.5 have higher neutral or dissatisfaction with the airlines than passengers with mean age higher than 41 are satisfied with airline services. Thus age affects the satisfaction rate. "
   ]
  },
  {
   "cell_type": "code",
   "execution_count": 57,
   "metadata": {},
   "outputs": [
    {
     "data": {
      "text/plain": [
       "Gender\n",
       "Female    52576\n",
       "Male      51018\n",
       "dtype: int64"
      ]
     },
     "execution_count": 57,
     "metadata": {},
     "output_type": "execute_result"
    }
   ],
   "source": [
    "airline_cleaned_df.groupby('Gender').size()"
   ]
  },
  {
   "cell_type": "markdown",
   "metadata": {},
   "source": [
    "Males are more than females"
   ]
  },
  {
   "cell_type": "code",
   "execution_count": 58,
   "metadata": {},
   "outputs": [
    {
     "data": {
      "text/html": [
       "<div>\n",
       "<style scoped>\n",
       "    .dataframe tbody tr th:only-of-type {\n",
       "        vertical-align: middle;\n",
       "    }\n",
       "\n",
       "    .dataframe tbody tr th {\n",
       "        vertical-align: top;\n",
       "    }\n",
       "\n",
       "    .dataframe thead th {\n",
       "        text-align: right;\n",
       "    }\n",
       "</style>\n",
       "<table border=\"1\" class=\"dataframe\">\n",
       "  <thead>\n",
       "    <tr style=\"text-align: right;\">\n",
       "      <th></th>\n",
       "      <th>Gender</th>\n",
       "      <th>Age</th>\n",
       "      <th>Inflight_wifi_service</th>\n",
       "      <th>Departure_Delay_in_Minutes</th>\n",
       "      <th>Arrival_Delay_in_Minutes</th>\n",
       "    </tr>\n",
       "    <tr>\n",
       "      <th>satisfaction</th>\n",
       "      <th></th>\n",
       "      <th></th>\n",
       "      <th></th>\n",
       "      <th></th>\n",
       "      <th></th>\n",
       "    </tr>\n",
       "  </thead>\n",
       "  <tbody>\n",
       "    <tr>\n",
       "      <th>neutral or dissatisfied</th>\n",
       "      <td>58697</td>\n",
       "      <td>58697</td>\n",
       "      <td>58697</td>\n",
       "      <td>58697</td>\n",
       "      <td>58697</td>\n",
       "    </tr>\n",
       "    <tr>\n",
       "      <th>satisfied</th>\n",
       "      <td>44897</td>\n",
       "      <td>44897</td>\n",
       "      <td>44897</td>\n",
       "      <td>44897</td>\n",
       "      <td>44897</td>\n",
       "    </tr>\n",
       "  </tbody>\n",
       "</table>\n",
       "</div>"
      ],
      "text/plain": [
       "                         Gender    Age  Inflight_wifi_service  \\\n",
       "satisfaction                                                    \n",
       "neutral or dissatisfied   58697  58697                  58697   \n",
       "satisfied                 44897  44897                  44897   \n",
       "\n",
       "                         Departure_Delay_in_Minutes  Arrival_Delay_in_Minutes  \n",
       "satisfaction                                                                   \n",
       "neutral or dissatisfied                       58697                     58697  \n",
       "satisfied                                     44897                     44897  "
      ]
     },
     "execution_count": 58,
     "metadata": {},
     "output_type": "execute_result"
    }
   ],
   "source": [
    "airline_cleaned_df.groupby('satisfaction').count()"
   ]
  },
  {
   "cell_type": "markdown",
   "metadata": {},
   "source": [
    "58697 people have neutral or dissatisfied airline services experience while 44897 people are satisfied with airline services. Thus less people are satisfied and more have either neutral or dissatisfied experiences."
   ]
  },
  {
   "cell_type": "code",
   "execution_count": 59,
   "metadata": {},
   "outputs": [
    {
     "data": {
      "text/html": [
       "<div>\n",
       "<style scoped>\n",
       "    .dataframe tbody tr th:only-of-type {\n",
       "        vertical-align: middle;\n",
       "    }\n",
       "\n",
       "    .dataframe tbody tr th {\n",
       "        vertical-align: top;\n",
       "    }\n",
       "\n",
       "    .dataframe thead th {\n",
       "        text-align: right;\n",
       "    }\n",
       "</style>\n",
       "<table border=\"1\" class=\"dataframe\">\n",
       "  <thead>\n",
       "    <tr style=\"text-align: right;\">\n",
       "      <th></th>\n",
       "      <th>Age</th>\n",
       "      <th>Departure_Delay_in_Minutes</th>\n",
       "      <th>Arrival_Delay_in_Minutes</th>\n",
       "    </tr>\n",
       "    <tr>\n",
       "      <th>Inflight_wifi_service</th>\n",
       "      <th></th>\n",
       "      <th></th>\n",
       "      <th></th>\n",
       "    </tr>\n",
       "  </thead>\n",
       "  <tbody>\n",
       "    <tr>\n",
       "      <th>0</th>\n",
       "      <td>37.839470</td>\n",
       "      <td>10.766473</td>\n",
       "      <td>10.842700</td>\n",
       "    </tr>\n",
       "    <tr>\n",
       "      <th>1</th>\n",
       "      <td>39.718857</td>\n",
       "      <td>15.693887</td>\n",
       "      <td>16.206231</td>\n",
       "    </tr>\n",
       "    <tr>\n",
       "      <th>2</th>\n",
       "      <td>39.052262</td>\n",
       "      <td>15.522695</td>\n",
       "      <td>16.036808</td>\n",
       "    </tr>\n",
       "    <tr>\n",
       "      <th>3</th>\n",
       "      <td>39.119276</td>\n",
       "      <td>15.688433</td>\n",
       "      <td>16.193338</td>\n",
       "    </tr>\n",
       "    <tr>\n",
       "      <th>4</th>\n",
       "      <td>39.496935</td>\n",
       "      <td>13.606982</td>\n",
       "      <td>14.015808</td>\n",
       "    </tr>\n",
       "    <tr>\n",
       "      <th>5</th>\n",
       "      <td>40.398653</td>\n",
       "      <td>12.458464</td>\n",
       "      <td>12.541098</td>\n",
       "    </tr>\n",
       "  </tbody>\n",
       "</table>\n",
       "</div>"
      ],
      "text/plain": [
       "                             Age  Departure_Delay_in_Minutes  \\\n",
       "Inflight_wifi_service                                          \n",
       "0                      37.839470                   10.766473   \n",
       "1                      39.718857                   15.693887   \n",
       "2                      39.052262                   15.522695   \n",
       "3                      39.119276                   15.688433   \n",
       "4                      39.496935                   13.606982   \n",
       "5                      40.398653                   12.458464   \n",
       "\n",
       "                       Arrival_Delay_in_Minutes  \n",
       "Inflight_wifi_service                            \n",
       "0                                     10.842700  \n",
       "1                                     16.206231  \n",
       "2                                     16.036808  \n",
       "3                                     16.193338  \n",
       "4                                     14.015808  \n",
       "5                                     12.541098  "
      ]
     },
     "execution_count": 59,
     "metadata": {},
     "output_type": "execute_result"
    },
    {
     "data": {
      "text/plain": [
       "Inflight_wifi_service\n",
       "0     3096\n",
       "1    17781\n",
       "2    25755\n",
       "3    25789\n",
       "4    19737\n",
       "5    11436\n",
       "dtype: int64"
      ]
     },
     "execution_count": 59,
     "metadata": {},
     "output_type": "execute_result"
    }
   ],
   "source": [
    "airline_cleaned_df.groupby('Inflight_wifi_service').mean()\n",
    "airline_cleaned_df.groupby('Inflight_wifi_service').size()"
   ]
  },
  {
   "cell_type": "code",
   "execution_count": 25,
   "metadata": {},
   "outputs": [],
   "source": [
    "#"
   ]
  },
  {
   "cell_type": "code",
   "execution_count": 60,
   "metadata": {},
   "outputs": [
    {
     "name": "stderr",
     "output_type": "stream",
     "text": [
      "<ipython-input-60-5f331c4dec1c>:3: UserWarning: To output multiple subplots, the figure containing the passed axes is being cleared\n",
      "  airline_cleaned_df.hist(ax=ax)\n"
     ]
    },
    {
     "data": {
      "text/plain": [
       "array([[<AxesSubplot:title={'center':'Age'}>,\n",
       "        <AxesSubplot:title={'center':'Inflight_wifi_service'}>],\n",
       "       [<AxesSubplot:title={'center':'Departure_Delay_in_Minutes'}>,\n",
       "        <AxesSubplot:title={'center':'Arrival_Delay_in_Minutes'}>]],\n",
       "      dtype=object)"
      ]
     },
     "execution_count": 60,
     "metadata": {},
     "output_type": "execute_result"
    },
    {
     "data": {
      "image/png": "[encoded data removed]",
      "text/plain": [
       "<Figure size 720x720 with 4 Axes>"
      ]
     },
     "metadata": {
      "needs_background": "light"
     },
     "output_type": "display_data"
    }
   ],
   "source": [
    "fig = plt.figure(figsize = (10,10))\n",
    "ax = fig.gca()\n",
    "airline_cleaned_df.hist(ax=ax)\n",
    "plt.show()"
   ]
  },
  {
   "cell_type": "markdown",
   "metadata": {},
   "source": [
    "This is separate from the ipykernel package so we can avoid doing imports until"
   ]
  },
  {
   "cell_type": "code",
   "execution_count": 61,
   "metadata": {},
   "outputs": [
    {
     "data": {
      "text/html": [
       "<div>\n",
       "<style scoped>\n",
       "    .dataframe tbody tr th:only-of-type {\n",
       "        vertical-align: middle;\n",
       "    }\n",
       "\n",
       "    .dataframe tbody tr th {\n",
       "        vertical-align: top;\n",
       "    }\n",
       "\n",
       "    .dataframe thead th {\n",
       "        text-align: right;\n",
       "    }\n",
       "</style>\n",
       "<table border=\"1\" class=\"dataframe\">\n",
       "  <thead>\n",
       "    <tr style=\"text-align: right;\">\n",
       "      <th></th>\n",
       "      <th>id</th>\n",
       "      <th>Age</th>\n",
       "      <th>Flight_Distance</th>\n",
       "      <th>Inflight_wifi_service</th>\n",
       "      <th>Food_and_drink</th>\n",
       "      <th>Online_boarding</th>\n",
       "      <th>Inflight_entertainment</th>\n",
       "      <th>On-board_service</th>\n",
       "      <th>Baggage_handling</th>\n",
       "      <th>Inflight_service</th>\n",
       "      <th>Cleanliness</th>\n",
       "      <th>Departure_Delay_in_Minutes</th>\n",
       "      <th>Arrival_Delay_in_Minutes</th>\n",
       "    </tr>\n",
       "  </thead>\n",
       "  <tbody>\n",
       "    <tr>\n",
       "      <th>id</th>\n",
       "      <td>1.000000</td>\n",
       "      <td>0.022857</td>\n",
       "      <td>0.095544</td>\n",
       "      <td>-0.021276</td>\n",
       "      <td>0.001063</td>\n",
       "      <td>0.055477</td>\n",
       "      <td>0.002300</td>\n",
       "      <td>0.055241</td>\n",
       "      <td>0.074940</td>\n",
       "      <td>0.079346</td>\n",
       "      <td>0.024965</td>\n",
       "      <td>-0.019546</td>\n",
       "      <td>-0.037254</td>\n",
       "    </tr>\n",
       "    <tr>\n",
       "      <th>Age</th>\n",
       "      <td>0.022857</td>\n",
       "      <td>1.000000</td>\n",
       "      <td>0.099461</td>\n",
       "      <td>0.017859</td>\n",
       "      <td>0.023000</td>\n",
       "      <td>0.208939</td>\n",
       "      <td>0.076444</td>\n",
       "      <td>0.057594</td>\n",
       "      <td>-0.047529</td>\n",
       "      <td>-0.049427</td>\n",
       "      <td>0.053611</td>\n",
       "      <td>-0.010152</td>\n",
       "      <td>-0.012147</td>\n",
       "    </tr>\n",
       "    <tr>\n",
       "      <th>Flight_Distance</th>\n",
       "      <td>0.095544</td>\n",
       "      <td>0.099461</td>\n",
       "      <td>1.000000</td>\n",
       "      <td>0.007131</td>\n",
       "      <td>0.056994</td>\n",
       "      <td>0.214869</td>\n",
       "      <td>0.128740</td>\n",
       "      <td>0.109526</td>\n",
       "      <td>0.063184</td>\n",
       "      <td>0.057540</td>\n",
       "      <td>0.093149</td>\n",
       "      <td>0.002158</td>\n",
       "      <td>-0.002426</td>\n",
       "    </tr>\n",
       "    <tr>\n",
       "      <th>Inflight_wifi_service</th>\n",
       "      <td>-0.021276</td>\n",
       "      <td>0.017859</td>\n",
       "      <td>0.007131</td>\n",
       "      <td>1.000000</td>\n",
       "      <td>0.134718</td>\n",
       "      <td>0.456970</td>\n",
       "      <td>0.209321</td>\n",
       "      <td>0.121500</td>\n",
       "      <td>0.120923</td>\n",
       "      <td>0.110441</td>\n",
       "      <td>0.132698</td>\n",
       "      <td>-0.017402</td>\n",
       "      <td>-0.019095</td>\n",
       "    </tr>\n",
       "    <tr>\n",
       "      <th>Food_and_drink</th>\n",
       "      <td>0.001063</td>\n",
       "      <td>0.023000</td>\n",
       "      <td>0.056994</td>\n",
       "      <td>0.134718</td>\n",
       "      <td>1.000000</td>\n",
       "      <td>0.234468</td>\n",
       "      <td>0.622512</td>\n",
       "      <td>0.059073</td>\n",
       "      <td>0.034746</td>\n",
       "      <td>0.033993</td>\n",
       "      <td>0.657760</td>\n",
       "      <td>-0.029926</td>\n",
       "      <td>-0.032524</td>\n",
       "    </tr>\n",
       "    <tr>\n",
       "      <th>Online_boarding</th>\n",
       "      <td>0.055477</td>\n",
       "      <td>0.208939</td>\n",
       "      <td>0.214869</td>\n",
       "      <td>0.456970</td>\n",
       "      <td>0.234468</td>\n",
       "      <td>1.000000</td>\n",
       "      <td>0.285066</td>\n",
       "      <td>0.155443</td>\n",
       "      <td>0.083280</td>\n",
       "      <td>0.074573</td>\n",
       "      <td>0.331517</td>\n",
       "      <td>-0.018982</td>\n",
       "      <td>-0.021949</td>\n",
       "    </tr>\n",
       "    <tr>\n",
       "      <th>Inflight_entertainment</th>\n",
       "      <td>0.002300</td>\n",
       "      <td>0.076444</td>\n",
       "      <td>0.128740</td>\n",
       "      <td>0.209321</td>\n",
       "      <td>0.622512</td>\n",
       "      <td>0.285066</td>\n",
       "      <td>1.000000</td>\n",
       "      <td>0.420153</td>\n",
       "      <td>0.378210</td>\n",
       "      <td>0.404855</td>\n",
       "      <td>0.691815</td>\n",
       "      <td>-0.027489</td>\n",
       "      <td>-0.030703</td>\n",
       "    </tr>\n",
       "    <tr>\n",
       "      <th>On-board_service</th>\n",
       "      <td>0.055241</td>\n",
       "      <td>0.057594</td>\n",
       "      <td>0.109526</td>\n",
       "      <td>0.121500</td>\n",
       "      <td>0.059073</td>\n",
       "      <td>0.155443</td>\n",
       "      <td>0.420153</td>\n",
       "      <td>1.000000</td>\n",
       "      <td>0.519134</td>\n",
       "      <td>0.550782</td>\n",
       "      <td>0.123220</td>\n",
       "      <td>-0.031569</td>\n",
       "      <td>-0.035227</td>\n",
       "    </tr>\n",
       "    <tr>\n",
       "      <th>Baggage_handling</th>\n",
       "      <td>0.074940</td>\n",
       "      <td>-0.047529</td>\n",
       "      <td>0.063184</td>\n",
       "      <td>0.120923</td>\n",
       "      <td>0.034746</td>\n",
       "      <td>0.083280</td>\n",
       "      <td>0.378210</td>\n",
       "      <td>0.519134</td>\n",
       "      <td>1.000000</td>\n",
       "      <td>0.628561</td>\n",
       "      <td>0.095793</td>\n",
       "      <td>-0.005573</td>\n",
       "      <td>-0.008542</td>\n",
       "    </tr>\n",
       "    <tr>\n",
       "      <th>Inflight_service</th>\n",
       "      <td>0.079346</td>\n",
       "      <td>-0.049427</td>\n",
       "      <td>0.057540</td>\n",
       "      <td>0.110441</td>\n",
       "      <td>0.033993</td>\n",
       "      <td>0.074573</td>\n",
       "      <td>0.404855</td>\n",
       "      <td>0.550782</td>\n",
       "      <td>0.628561</td>\n",
       "      <td>1.000000</td>\n",
       "      <td>0.088779</td>\n",
       "      <td>-0.054813</td>\n",
       "      <td>-0.059196</td>\n",
       "    </tr>\n",
       "    <tr>\n",
       "      <th>Cleanliness</th>\n",
       "      <td>0.024965</td>\n",
       "      <td>0.053611</td>\n",
       "      <td>0.093149</td>\n",
       "      <td>0.132698</td>\n",
       "      <td>0.657760</td>\n",
       "      <td>0.331517</td>\n",
       "      <td>0.691815</td>\n",
       "      <td>0.123220</td>\n",
       "      <td>0.095793</td>\n",
       "      <td>0.088779</td>\n",
       "      <td>1.000000</td>\n",
       "      <td>-0.014093</td>\n",
       "      <td>-0.015774</td>\n",
       "    </tr>\n",
       "    <tr>\n",
       "      <th>Departure_Delay_in_Minutes</th>\n",
       "      <td>-0.019546</td>\n",
       "      <td>-0.010152</td>\n",
       "      <td>0.002158</td>\n",
       "      <td>-0.017402</td>\n",
       "      <td>-0.029926</td>\n",
       "      <td>-0.018982</td>\n",
       "      <td>-0.027489</td>\n",
       "      <td>-0.031569</td>\n",
       "      <td>-0.005573</td>\n",
       "      <td>-0.054813</td>\n",
       "      <td>-0.014093</td>\n",
       "      <td>1.000000</td>\n",
       "      <td>0.965481</td>\n",
       "    </tr>\n",
       "    <tr>\n",
       "      <th>Arrival_Delay_in_Minutes</th>\n",
       "      <td>-0.037254</td>\n",
       "      <td>-0.012147</td>\n",
       "      <td>-0.002426</td>\n",
       "      <td>-0.019095</td>\n",
       "      <td>-0.032524</td>\n",
       "      <td>-0.021949</td>\n",
       "      <td>-0.030703</td>\n",
       "      <td>-0.035227</td>\n",
       "      <td>-0.008542</td>\n",
       "      <td>-0.059196</td>\n",
       "      <td>-0.015774</td>\n",
       "      <td>0.965481</td>\n",
       "      <td>1.000000</td>\n",
       "    </tr>\n",
       "  </tbody>\n",
       "</table>\n",
       "</div>"
      ],
      "text/plain": [
       "                                  id       Age  Flight_Distance  \\\n",
       "id                          1.000000  0.022857         0.095544   \n",
       "Age                         0.022857  1.000000         0.099461   \n",
       "Flight_Distance             0.095544  0.099461         1.000000   \n",
       "Inflight_wifi_service      -0.021276  0.017859         0.007131   \n",
       "Food_and_drink              0.001063  0.023000         0.056994   \n",
       "Online_boarding             0.055477  0.208939         0.214869   \n",
       "Inflight_entertainment      0.002300  0.076444         0.128740   \n",
       "On-board_service            0.055241  0.057594         0.109526   \n",
       "Baggage_handling            0.074940 -0.047529         0.063184   \n",
       "Inflight_service            0.079346 -0.049427         0.057540   \n",
       "Cleanliness                 0.024965  0.053611         0.093149   \n",
       "Departure_Delay_in_Minutes -0.019546 -0.010152         0.002158   \n",
       "Arrival_Delay_in_Minutes   -0.037254 -0.012147        -0.002426   \n",
       "\n",
       "                            Inflight_wifi_service  Food_and_drink  \\\n",
       "id                                      -0.021276        0.001063   \n",
       "Age                                      0.017859        0.023000   \n",
       "Flight_Distance                          0.007131        0.056994   \n",
       "Inflight_wifi_service                    1.000000        0.134718   \n",
       "Food_and_drink                           0.134718        1.000000   \n",
       "Online_boarding                          0.456970        0.234468   \n",
       "Inflight_entertainment                   0.209321        0.622512   \n",
       "On-board_service                         0.121500        0.059073   \n",
       "Baggage_handling                         0.120923        0.034746   \n",
       "Inflight_service                         0.110441        0.033993   \n",
       "Cleanliness                              0.132698        0.657760   \n",
       "Departure_Delay_in_Minutes              -0.017402       -0.029926   \n",
       "Arrival_Delay_in_Minutes                -0.019095       -0.032524   \n",
       "\n",
       "                            Online_boarding  Inflight_entertainment  \\\n",
       "id                                 0.055477                0.002300   \n",
       "Age                                0.208939                0.076444   \n",
       "Flight_Distance                    0.214869                0.128740   \n",
       "Inflight_wifi_service              0.456970                0.209321   \n",
       "Food_and_drink                     0.234468                0.622512   \n",
       "Online_boarding                    1.000000                0.285066   \n",
       "Inflight_entertainment             0.285066                1.000000   \n",
       "On-board_service                   0.155443                0.420153   \n",
       "Baggage_handling                   0.083280                0.378210   \n",
       "Inflight_service                   0.074573                0.404855   \n",
       "Cleanliness                        0.331517                0.691815   \n",
       "Departure_Delay_in_Minutes        -0.018982               -0.027489   \n",
       "Arrival_Delay_in_Minutes          -0.021949               -0.030703   \n",
       "\n",
       "                            On-board_service  Baggage_handling  \\\n",
       "id                                  0.055241          0.074940   \n",
       "Age                                 0.057594         -0.047529   \n",
       "Flight_Distance                     0.109526          0.063184   \n",
       "Inflight_wifi_service               0.121500          0.120923   \n",
       "Food_and_drink                      0.059073          0.034746   \n",
       "Online_boarding                     0.155443          0.083280   \n",
       "Inflight_entertainment              0.420153          0.378210   \n",
       "On-board_service                    1.000000          0.519134   \n",
       "Baggage_handling                    0.519134          1.000000   \n",
       "Inflight_service                    0.550782          0.628561   \n",
       "Cleanliness                         0.123220          0.095793   \n",
       "Departure_Delay_in_Minutes         -0.031569         -0.005573   \n",
       "Arrival_Delay_in_Minutes           -0.035227         -0.008542   \n",
       "\n",
       "                            Inflight_service  Cleanliness  \\\n",
       "id                                  0.079346     0.024965   \n",
       "Age                                -0.049427     0.053611   \n",
       "Flight_Distance                     0.057540     0.093149   \n",
       "Inflight_wifi_service               0.110441     0.132698   \n",
       "Food_and_drink                      0.033993     0.657760   \n",
       "Online_boarding                     0.074573     0.331517   \n",
       "Inflight_entertainment              0.404855     0.691815   \n",
       "On-board_service                    0.550782     0.123220   \n",
       "Baggage_handling                    0.628561     0.095793   \n",
       "Inflight_service                    1.000000     0.088779   \n",
       "Cleanliness                         0.088779     1.000000   \n",
       "Departure_Delay_in_Minutes         -0.054813    -0.014093   \n",
       "Arrival_Delay_in_Minutes           -0.059196    -0.015774   \n",
       "\n",
       "                            Departure_Delay_in_Minutes  \\\n",
       "id                                           -0.019546   \n",
       "Age                                          -0.010152   \n",
       "Flight_Distance                               0.002158   \n",
       "Inflight_wifi_service                        -0.017402   \n",
       "Food_and_drink                               -0.029926   \n",
       "Online_boarding                              -0.018982   \n",
       "Inflight_entertainment                       -0.027489   \n",
       "On-board_service                             -0.031569   \n",
       "Baggage_handling                             -0.005573   \n",
       "Inflight_service                             -0.054813   \n",
       "Cleanliness                                  -0.014093   \n",
       "Departure_Delay_in_Minutes                    1.000000   \n",
       "Arrival_Delay_in_Minutes                      0.965481   \n",
       "\n",
       "                            Arrival_Delay_in_Minutes  \n",
       "id                                         -0.037254  \n",
       "Age                                        -0.012147  \n",
       "Flight_Distance                            -0.002426  \n",
       "Inflight_wifi_service                      -0.019095  \n",
       "Food_and_drink                             -0.032524  \n",
       "Online_boarding                            -0.021949  \n",
       "Inflight_entertainment                     -0.030703  \n",
       "On-board_service                           -0.035227  \n",
       "Baggage_handling                           -0.008542  \n",
       "Inflight_service                           -0.059196  \n",
       "Cleanliness                                -0.015774  \n",
       "Departure_Delay_in_Minutes                  0.965481  \n",
       "Arrival_Delay_in_Minutes                    1.000000  "
      ]
     },
     "execution_count": 61,
     "metadata": {},
     "output_type": "execute_result"
    }
   ],
   "source": [
    "airline_df.corr()"
   ]
  },
  {
   "cell_type": "code",
   "execution_count": 62,
   "metadata": {},
   "outputs": [
    {
     "data": {
      "text/html": [
       "<div>\n",
       "<style scoped>\n",
       "    .dataframe tbody tr th:only-of-type {\n",
       "        vertical-align: middle;\n",
       "    }\n",
       "\n",
       "    .dataframe tbody tr th {\n",
       "        vertical-align: top;\n",
       "    }\n",
       "\n",
       "    .dataframe thead th {\n",
       "        text-align: right;\n",
       "    }\n",
       "</style>\n",
       "<table border=\"1\" class=\"dataframe\">\n",
       "  <thead>\n",
       "    <tr style=\"text-align: right;\">\n",
       "      <th></th>\n",
       "      <th>Age</th>\n",
       "      <th>Inflight_wifi_service</th>\n",
       "      <th>Departure_Delay_in_Minutes</th>\n",
       "      <th>Arrival_Delay_in_Minutes</th>\n",
       "    </tr>\n",
       "  </thead>\n",
       "  <tbody>\n",
       "    <tr>\n",
       "      <th>Age</th>\n",
       "      <td>1.000000</td>\n",
       "      <td>0.017470</td>\n",
       "      <td>-0.010150</td>\n",
       "      <td>-0.012147</td>\n",
       "    </tr>\n",
       "    <tr>\n",
       "      <th>Inflight_wifi_service</th>\n",
       "      <td>0.017470</td>\n",
       "      <td>1.000000</td>\n",
       "      <td>-0.017451</td>\n",
       "      <td>-0.019095</td>\n",
       "    </tr>\n",
       "    <tr>\n",
       "      <th>Departure_Delay_in_Minutes</th>\n",
       "      <td>-0.010150</td>\n",
       "      <td>-0.017451</td>\n",
       "      <td>1.000000</td>\n",
       "      <td>0.965481</td>\n",
       "    </tr>\n",
       "    <tr>\n",
       "      <th>Arrival_Delay_in_Minutes</th>\n",
       "      <td>-0.012147</td>\n",
       "      <td>-0.019095</td>\n",
       "      <td>0.965481</td>\n",
       "      <td>1.000000</td>\n",
       "    </tr>\n",
       "  </tbody>\n",
       "</table>\n",
       "</div>"
      ],
      "text/plain": [
       "                                 Age  Inflight_wifi_service  \\\n",
       "Age                         1.000000               0.017470   \n",
       "Inflight_wifi_service       0.017470               1.000000   \n",
       "Departure_Delay_in_Minutes -0.010150              -0.017451   \n",
       "Arrival_Delay_in_Minutes   -0.012147              -0.019095   \n",
       "\n",
       "                            Departure_Delay_in_Minutes  \\\n",
       "Age                                          -0.010150   \n",
       "Inflight_wifi_service                        -0.017451   \n",
       "Departure_Delay_in_Minutes                    1.000000   \n",
       "Arrival_Delay_in_Minutes                      0.965481   \n",
       "\n",
       "                            Arrival_Delay_in_Minutes  \n",
       "Age                                        -0.012147  \n",
       "Inflight_wifi_service                      -0.019095  \n",
       "Departure_Delay_in_Minutes                  0.965481  \n",
       "Arrival_Delay_in_Minutes                    1.000000  "
      ]
     },
     "execution_count": 62,
     "metadata": {},
     "output_type": "execute_result"
    }
   ],
   "source": [
    "airline_cleaned_df.corr()"
   ]
  },
  {
   "cell_type": "markdown",
   "metadata": {},
   "source": [
    "As we see, Departure Delay in Minutes and Arrival Delay in Minutes are correlated with each other. More closer to 1, more stronger relationship it has. "
   ]
  },
  {
   "cell_type": "code",
   "execution_count": 110,
   "metadata": {},
   "outputs": [
    {
     "data": {
      "text/html": [
       "<div>\n",
       "<style scoped>\n",
       "    .dataframe tbody tr th:only-of-type {\n",
       "        vertical-align: middle;\n",
       "    }\n",
       "\n",
       "    .dataframe tbody tr th {\n",
       "        vertical-align: top;\n",
       "    }\n",
       "\n",
       "    .dataframe thead th {\n",
       "        text-align: right;\n",
       "    }\n",
       "</style>\n",
       "<table border=\"1\" class=\"dataframe\">\n",
       "  <thead>\n",
       "    <tr style=\"text-align: right;\">\n",
       "      <th></th>\n",
       "      <th>Age</th>\n",
       "      <th>Departure_Delay_in_Minutes</th>\n",
       "      <th>Arrival_Delay_in_Minutes</th>\n",
       "      <th>Gender_Female</th>\n",
       "      <th>Gender_Male</th>\n",
       "      <th>Inflight_wifi_service_0</th>\n",
       "      <th>Inflight_wifi_service_1</th>\n",
       "      <th>Inflight_wifi_service_2</th>\n",
       "      <th>Inflight_wifi_service_3</th>\n",
       "      <th>Inflight_wifi_service_4</th>\n",
       "      <th>Inflight_wifi_service_5</th>\n",
       "      <th>satisfaction_neutral or dissatisfied</th>\n",
       "      <th>satisfaction_satisfied</th>\n",
       "    </tr>\n",
       "  </thead>\n",
       "  <tbody>\n",
       "    <tr>\n",
       "      <th>0</th>\n",
       "      <td>13.0</td>\n",
       "      <td>25.0</td>\n",
       "      <td>18.0</td>\n",
       "      <td>0</td>\n",
       "      <td>1</td>\n",
       "      <td>0</td>\n",
       "      <td>0</td>\n",
       "      <td>0</td>\n",
       "      <td>1</td>\n",
       "      <td>0</td>\n",
       "      <td>0</td>\n",
       "      <td>1</td>\n",
       "      <td>0</td>\n",
       "    </tr>\n",
       "    <tr>\n",
       "      <th>1</th>\n",
       "      <td>25.0</td>\n",
       "      <td>1.0</td>\n",
       "      <td>6.0</td>\n",
       "      <td>0</td>\n",
       "      <td>1</td>\n",
       "      <td>0</td>\n",
       "      <td>0</td>\n",
       "      <td>0</td>\n",
       "      <td>1</td>\n",
       "      <td>0</td>\n",
       "      <td>0</td>\n",
       "      <td>1</td>\n",
       "      <td>0</td>\n",
       "    </tr>\n",
       "    <tr>\n",
       "      <th>2</th>\n",
       "      <td>26.0</td>\n",
       "      <td>0.0</td>\n",
       "      <td>0.0</td>\n",
       "      <td>1</td>\n",
       "      <td>0</td>\n",
       "      <td>0</td>\n",
       "      <td>0</td>\n",
       "      <td>1</td>\n",
       "      <td>0</td>\n",
       "      <td>0</td>\n",
       "      <td>0</td>\n",
       "      <td>0</td>\n",
       "      <td>1</td>\n",
       "    </tr>\n",
       "    <tr>\n",
       "      <th>3</th>\n",
       "      <td>25.0</td>\n",
       "      <td>11.0</td>\n",
       "      <td>9.0</td>\n",
       "      <td>1</td>\n",
       "      <td>0</td>\n",
       "      <td>0</td>\n",
       "      <td>0</td>\n",
       "      <td>1</td>\n",
       "      <td>0</td>\n",
       "      <td>0</td>\n",
       "      <td>0</td>\n",
       "      <td>1</td>\n",
       "      <td>0</td>\n",
       "    </tr>\n",
       "    <tr>\n",
       "      <th>4</th>\n",
       "      <td>61.0</td>\n",
       "      <td>0.0</td>\n",
       "      <td>0.0</td>\n",
       "      <td>0</td>\n",
       "      <td>1</td>\n",
       "      <td>0</td>\n",
       "      <td>0</td>\n",
       "      <td>0</td>\n",
       "      <td>1</td>\n",
       "      <td>0</td>\n",
       "      <td>0</td>\n",
       "      <td>0</td>\n",
       "      <td>1</td>\n",
       "    </tr>\n",
       "  </tbody>\n",
       "</table>\n",
       "</div>"
      ],
      "text/plain": [
       "    Age  Departure_Delay_in_Minutes  Arrival_Delay_in_Minutes  Gender_Female  \\\n",
       "0  13.0                        25.0                      18.0              0   \n",
       "1  25.0                         1.0                       6.0              0   \n",
       "2  26.0                         0.0                       0.0              1   \n",
       "3  25.0                        11.0                       9.0              1   \n",
       "4  61.0                         0.0                       0.0              0   \n",
       "\n",
       "   Gender_Male  Inflight_wifi_service_0  Inflight_wifi_service_1  \\\n",
       "0            1                        0                        0   \n",
       "1            1                        0                        0   \n",
       "2            0                        0                        0   \n",
       "3            0                        0                        0   \n",
       "4            1                        0                        0   \n",
       "\n",
       "   Inflight_wifi_service_2  Inflight_wifi_service_3  Inflight_wifi_service_4  \\\n",
       "0                        0                        1                        0   \n",
       "1                        0                        1                        0   \n",
       "2                        1                        0                        0   \n",
       "3                        1                        0                        0   \n",
       "4                        0                        1                        0   \n",
       "\n",
       "   Inflight_wifi_service_5  satisfaction_neutral or dissatisfied  \\\n",
       "0                        0                                     1   \n",
       "1                        0                                     1   \n",
       "2                        0                                     0   \n",
       "3                        0                                     1   \n",
       "4                        0                                     0   \n",
       "\n",
       "   satisfaction_satisfied  \n",
       "0                       0  \n",
       "1                       0  \n",
       "2                       1  \n",
       "3                       0  \n",
       "4                       1  "
      ]
     },
     "execution_count": 110,
     "metadata": {},
     "output_type": "execute_result"
    }
   ],
   "source": [
    "airline_predict_df = pd.get_dummies(data = airline_cleaned_df, columns = ['Gender','Inflight_wifi_service','satisfaction'])\n",
    "airline_predict_df.head()"
   ]
  },
  {
   "cell_type": "code",
   "execution_count": 111,
   "metadata": {},
   "outputs": [],
   "source": [
    "airline_predict_df = airline_predict_df.drop(['Gender_Female','Inflight_wifi_service_0','Inflight_wifi_service_1','Inflight_wifi_service_2'], axis = 1)"
   ]
  },
  {
   "cell_type": "code",
   "execution_count": 112,
   "metadata": {},
   "outputs": [
    {
     "data": {
      "text/html": [
       "<div>\n",
       "<style scoped>\n",
       "    .dataframe tbody tr th:only-of-type {\n",
       "        vertical-align: middle;\n",
       "    }\n",
       "\n",
       "    .dataframe tbody tr th {\n",
       "        vertical-align: top;\n",
       "    }\n",
       "\n",
       "    .dataframe thead th {\n",
       "        text-align: right;\n",
       "    }\n",
       "</style>\n",
       "<table border=\"1\" class=\"dataframe\">\n",
       "  <thead>\n",
       "    <tr style=\"text-align: right;\">\n",
       "      <th></th>\n",
       "      <th>Age</th>\n",
       "      <th>Departure_Delay_in_Minutes</th>\n",
       "      <th>Arrival_Delay_in_Minutes</th>\n",
       "      <th>Gender_Male</th>\n",
       "      <th>Inflight_wifi_service_3</th>\n",
       "      <th>Inflight_wifi_service_4</th>\n",
       "      <th>Inflight_wifi_service_5</th>\n",
       "      <th>satisfaction_neutral or dissatisfied</th>\n",
       "      <th>satisfaction_satisfied</th>\n",
       "    </tr>\n",
       "  </thead>\n",
       "  <tbody>\n",
       "    <tr>\n",
       "      <th>0</th>\n",
       "      <td>13.0</td>\n",
       "      <td>25.0</td>\n",
       "      <td>18.0</td>\n",
       "      <td>1</td>\n",
       "      <td>1</td>\n",
       "      <td>0</td>\n",
       "      <td>0</td>\n",
       "      <td>1</td>\n",
       "      <td>0</td>\n",
       "    </tr>\n",
       "    <tr>\n",
       "      <th>1</th>\n",
       "      <td>25.0</td>\n",
       "      <td>1.0</td>\n",
       "      <td>6.0</td>\n",
       "      <td>1</td>\n",
       "      <td>1</td>\n",
       "      <td>0</td>\n",
       "      <td>0</td>\n",
       "      <td>1</td>\n",
       "      <td>0</td>\n",
       "    </tr>\n",
       "    <tr>\n",
       "      <th>2</th>\n",
       "      <td>26.0</td>\n",
       "      <td>0.0</td>\n",
       "      <td>0.0</td>\n",
       "      <td>0</td>\n",
       "      <td>0</td>\n",
       "      <td>0</td>\n",
       "      <td>0</td>\n",
       "      <td>0</td>\n",
       "      <td>1</td>\n",
       "    </tr>\n",
       "    <tr>\n",
       "      <th>3</th>\n",
       "      <td>25.0</td>\n",
       "      <td>11.0</td>\n",
       "      <td>9.0</td>\n",
       "      <td>0</td>\n",
       "      <td>0</td>\n",
       "      <td>0</td>\n",
       "      <td>0</td>\n",
       "      <td>1</td>\n",
       "      <td>0</td>\n",
       "    </tr>\n",
       "    <tr>\n",
       "      <th>4</th>\n",
       "      <td>61.0</td>\n",
       "      <td>0.0</td>\n",
       "      <td>0.0</td>\n",
       "      <td>1</td>\n",
       "      <td>1</td>\n",
       "      <td>0</td>\n",
       "      <td>0</td>\n",
       "      <td>0</td>\n",
       "      <td>1</td>\n",
       "    </tr>\n",
       "    <tr>\n",
       "      <th>...</th>\n",
       "      <td>...</td>\n",
       "      <td>...</td>\n",
       "      <td>...</td>\n",
       "      <td>...</td>\n",
       "      <td>...</td>\n",
       "      <td>...</td>\n",
       "      <td>...</td>\n",
       "      <td>...</td>\n",
       "      <td>...</td>\n",
       "    </tr>\n",
       "    <tr>\n",
       "      <th>103899</th>\n",
       "      <td>23.0</td>\n",
       "      <td>3.0</td>\n",
       "      <td>0.0</td>\n",
       "      <td>0</td>\n",
       "      <td>0</td>\n",
       "      <td>0</td>\n",
       "      <td>0</td>\n",
       "      <td>1</td>\n",
       "      <td>0</td>\n",
       "    </tr>\n",
       "    <tr>\n",
       "      <th>103900</th>\n",
       "      <td>49.0</td>\n",
       "      <td>0.0</td>\n",
       "      <td>0.0</td>\n",
       "      <td>1</td>\n",
       "      <td>0</td>\n",
       "      <td>1</td>\n",
       "      <td>0</td>\n",
       "      <td>0</td>\n",
       "      <td>1</td>\n",
       "    </tr>\n",
       "    <tr>\n",
       "      <th>103901</th>\n",
       "      <td>30.0</td>\n",
       "      <td>7.0</td>\n",
       "      <td>14.0</td>\n",
       "      <td>1</td>\n",
       "      <td>0</td>\n",
       "      <td>0</td>\n",
       "      <td>0</td>\n",
       "      <td>1</td>\n",
       "      <td>0</td>\n",
       "    </tr>\n",
       "    <tr>\n",
       "      <th>103902</th>\n",
       "      <td>22.0</td>\n",
       "      <td>0.0</td>\n",
       "      <td>0.0</td>\n",
       "      <td>0</td>\n",
       "      <td>0</td>\n",
       "      <td>0</td>\n",
       "      <td>0</td>\n",
       "      <td>1</td>\n",
       "      <td>0</td>\n",
       "    </tr>\n",
       "    <tr>\n",
       "      <th>103903</th>\n",
       "      <td>27.0</td>\n",
       "      <td>0.0</td>\n",
       "      <td>0.0</td>\n",
       "      <td>1</td>\n",
       "      <td>0</td>\n",
       "      <td>0</td>\n",
       "      <td>0</td>\n",
       "      <td>1</td>\n",
       "      <td>0</td>\n",
       "    </tr>\n",
       "  </tbody>\n",
       "</table>\n",
       "<p>103594 rows × 9 columns</p>\n",
       "</div>"
      ],
      "text/plain": [
       "         Age  Departure_Delay_in_Minutes  Arrival_Delay_in_Minutes  \\\n",
       "0       13.0                        25.0                      18.0   \n",
       "1       25.0                         1.0                       6.0   \n",
       "2       26.0                         0.0                       0.0   \n",
       "3       25.0                        11.0                       9.0   \n",
       "4       61.0                         0.0                       0.0   \n",
       "...      ...                         ...                       ...   \n",
       "103899  23.0                         3.0                       0.0   \n",
       "103900  49.0                         0.0                       0.0   \n",
       "103901  30.0                         7.0                      14.0   \n",
       "103902  22.0                         0.0                       0.0   \n",
       "103903  27.0                         0.0                       0.0   \n",
       "\n",
       "        Gender_Male  Inflight_wifi_service_3  Inflight_wifi_service_4  \\\n",
       "0                 1                        1                        0   \n",
       "1                 1                        1                        0   \n",
       "2                 0                        0                        0   \n",
       "3                 0                        0                        0   \n",
       "4                 1                        1                        0   \n",
       "...             ...                      ...                      ...   \n",
       "103899            0                        0                        0   \n",
       "103900            1                        0                        1   \n",
       "103901            1                        0                        0   \n",
       "103902            0                        0                        0   \n",
       "103903            1                        0                        0   \n",
       "\n",
       "        Inflight_wifi_service_5  satisfaction_neutral or dissatisfied  \\\n",
       "0                             0                                     1   \n",
       "1                             0                                     1   \n",
       "2                             0                                     0   \n",
       "3                             0                                     1   \n",
       "4                             0                                     0   \n",
       "...                         ...                                   ...   \n",
       "103899                        0                                     1   \n",
       "103900                        0                                     0   \n",
       "103901                        0                                     1   \n",
       "103902                        0                                     1   \n",
       "103903                        0                                     1   \n",
       "\n",
       "        satisfaction_satisfied  \n",
       "0                            0  \n",
       "1                            0  \n",
       "2                            1  \n",
       "3                            0  \n",
       "4                            1  \n",
       "...                        ...  \n",
       "103899                       0  \n",
       "103900                       1  \n",
       "103901                       0  \n",
       "103902                       0  \n",
       "103903                       0  \n",
       "\n",
       "[103594 rows x 9 columns]"
      ]
     },
     "execution_count": 112,
     "metadata": {},
     "output_type": "execute_result"
    },
    {
     "name": "stdout",
     "output_type": "stream",
     "text": [
      "<class 'pandas.core.frame.DataFrame'>\n",
      "Int64Index: 103594 entries, 0 to 103903\n",
      "Data columns (total 9 columns):\n",
      " #   Column                                Non-Null Count   Dtype  \n",
      "---  ------                                --------------   -----  \n",
      " 0   Age                                   103594 non-null  float64\n",
      " 1   Departure_Delay_in_Minutes            103594 non-null  float64\n",
      " 2   Arrival_Delay_in_Minutes              103594 non-null  float64\n",
      " 3   Gender_Male                           103594 non-null  uint8  \n",
      " 4   Inflight_wifi_service_3               103594 non-null  uint8  \n",
      " 5   Inflight_wifi_service_4               103594 non-null  uint8  \n",
      " 6   Inflight_wifi_service_5               103594 non-null  uint8  \n",
      " 7   satisfaction_neutral or dissatisfied  103594 non-null  uint8  \n",
      " 8   satisfaction_satisfied                103594 non-null  uint8  \n",
      "dtypes: float64(3), uint8(6)\n",
      "memory usage: 3.8 MB\n"
     ]
    },
    {
     "data": {
      "text/plain": [
       "(103594, 9)"
      ]
     },
     "execution_count": 112,
     "metadata": {},
     "output_type": "execute_result"
    }
   ],
   "source": [
    "airline_predict_df\n",
    "airline_predict_df.info()\n",
    "airline_predict_df.shape"
   ]
  },
  {
   "cell_type": "code",
   "execution_count": 88,
   "metadata": {},
   "outputs": [],
   "source": [
    "airline_x_df = airline_predict_df[['Age','Departure_Delay_in_Minutes','Arrival_Delay_in_Minutes','Gender_Female','Gender_Male',\n",
    "                                   'Inflight_wifi_service_3','Inflight_wifi_service_4','Inflight_wifi_service_5']]\n",
    "airline_y_df = airline_predict_df['satisfaction_satisfied']"
   ]
  },
  {
   "cell_type": "code",
   "execution_count": 89,
   "metadata": {},
   "outputs": [
    {
     "data": {
      "text/plain": [
       "(103594, 8)"
      ]
     },
     "execution_count": 89,
     "metadata": {},
     "output_type": "execute_result"
    },
    {
     "data": {
      "text/plain": [
       "(103594,)"
      ]
     },
     "execution_count": 89,
     "metadata": {},
     "output_type": "execute_result"
    }
   ],
   "source": [
    "airline_x_df.shape\n",
    "airline_y_df.shape"
   ]
  },
  {
   "cell_type": "markdown",
   "metadata": {},
   "source": [
    "We have splitted our data into an x-dataframe (which contains the data that we will use to make predictions) and a y-dataframe (which contains the data that we are trying to predict.\n",
    "Scikit-learn makes it very easy to divide our data set into training data and test data. To do this, we’ll need to import the function train_test_split from the model_selection module of scikit-learn.\n",
    "Since our target variable is categorical, we will be using Logistic Regression Model for prediction.\n",
    "Logistic Regression is a Machine Learning classification algorithm that is used to predict the probability of a categorical dependent variable. In logistic regression, the dependent variable is a binary variable that contains data coded as 1 (satisfaction) or 0 (dissatisfaction)."
   ]
  },
  {
   "cell_type": "code",
   "execution_count": 90,
   "metadata": {},
   "outputs": [],
   "source": [
    "import numpy as np\n",
    "from sklearn import metrics, preprocessing \n",
    "from sklearn.linear_model import LogisticRegression\n",
    "from sklearn.model_selection import train_test_split\n",
    "log_reg = LogisticRegression(solver='liblinear')"
   ]
  },
  {
   "cell_type": "code",
   "execution_count": 97,
   "metadata": {},
   "outputs": [
    {
     "data": {
      "text/plain": [
       "((82875, 8), (20719, 8), (82875,), (20719,))"
      ]
     },
     "execution_count": 97,
     "metadata": {},
     "output_type": "execute_result"
    }
   ],
   "source": [
    "X_train_df, X_test_df, Y_train_df, Y_test_df  = train_test_split(airline_x_df,airline_y_df, test_size = 0.20, random_state = 42)\n",
    "\n",
    "X_train_df.shape, X_test_df.shape, Y_train_df.shape, Y_test_df.shape"
   ]
  },
  {
   "cell_type": "markdown",
   "metadata": {},
   "source": [
    "We have split dataset into 80% and 20% for train and test dataframes respectively"
   ]
  },
  {
   "cell_type": "code",
   "execution_count": 98,
   "metadata": {},
   "outputs": [
    {
     "data": {
      "text/html": [
       "<div>\n",
       "<style scoped>\n",
       "    .dataframe tbody tr th:only-of-type {\n",
       "        vertical-align: middle;\n",
       "    }\n",
       "\n",
       "    .dataframe tbody tr th {\n",
       "        vertical-align: top;\n",
       "    }\n",
       "\n",
       "    .dataframe thead th {\n",
       "        text-align: right;\n",
       "    }\n",
       "</style>\n",
       "<table border=\"1\" class=\"dataframe\">\n",
       "  <thead>\n",
       "    <tr style=\"text-align: right;\">\n",
       "      <th></th>\n",
       "      <th>Age</th>\n",
       "      <th>Departure_Delay_in_Minutes</th>\n",
       "      <th>Arrival_Delay_in_Minutes</th>\n",
       "      <th>Gender_Female</th>\n",
       "      <th>Gender_Male</th>\n",
       "      <th>Inflight_wifi_service_3</th>\n",
       "      <th>Inflight_wifi_service_4</th>\n",
       "      <th>Inflight_wifi_service_5</th>\n",
       "    </tr>\n",
       "  </thead>\n",
       "  <tbody>\n",
       "    <tr>\n",
       "      <th>18104</th>\n",
       "      <td>41.0</td>\n",
       "      <td>0.0</td>\n",
       "      <td>2.0</td>\n",
       "      <td>1</td>\n",
       "      <td>0</td>\n",
       "      <td>1</td>\n",
       "      <td>0</td>\n",
       "      <td>0</td>\n",
       "    </tr>\n",
       "    <tr>\n",
       "      <th>66524</th>\n",
       "      <td>19.0</td>\n",
       "      <td>0.0</td>\n",
       "      <td>0.0</td>\n",
       "      <td>1</td>\n",
       "      <td>0</td>\n",
       "      <td>0</td>\n",
       "      <td>0</td>\n",
       "      <td>1</td>\n",
       "    </tr>\n",
       "    <tr>\n",
       "      <th>63076</th>\n",
       "      <td>29.0</td>\n",
       "      <td>131.0</td>\n",
       "      <td>119.0</td>\n",
       "      <td>0</td>\n",
       "      <td>1</td>\n",
       "      <td>1</td>\n",
       "      <td>0</td>\n",
       "      <td>0</td>\n",
       "    </tr>\n",
       "    <tr>\n",
       "      <th>26315</th>\n",
       "      <td>52.0</td>\n",
       "      <td>10.0</td>\n",
       "      <td>10.0</td>\n",
       "      <td>0</td>\n",
       "      <td>1</td>\n",
       "      <td>0</td>\n",
       "      <td>1</td>\n",
       "      <td>0</td>\n",
       "    </tr>\n",
       "    <tr>\n",
       "      <th>65647</th>\n",
       "      <td>54.0</td>\n",
       "      <td>0.0</td>\n",
       "      <td>8.0</td>\n",
       "      <td>0</td>\n",
       "      <td>1</td>\n",
       "      <td>0</td>\n",
       "      <td>0</td>\n",
       "      <td>0</td>\n",
       "    </tr>\n",
       "  </tbody>\n",
       "</table>\n",
       "</div>"
      ],
      "text/plain": [
       "        Age  Departure_Delay_in_Minutes  Arrival_Delay_in_Minutes  \\\n",
       "18104  41.0                         0.0                       2.0   \n",
       "66524  19.0                         0.0                       0.0   \n",
       "63076  29.0                       131.0                     119.0   \n",
       "26315  52.0                        10.0                      10.0   \n",
       "65647  54.0                         0.0                       8.0   \n",
       "\n",
       "       Gender_Female  Gender_Male  Inflight_wifi_service_3  \\\n",
       "18104              1            0                        1   \n",
       "66524              1            0                        0   \n",
       "63076              0            1                        1   \n",
       "26315              0            1                        0   \n",
       "65647              0            1                        0   \n",
       "\n",
       "       Inflight_wifi_service_4  Inflight_wifi_service_5  \n",
       "18104                        0                        0  \n",
       "66524                        0                        1  \n",
       "63076                        0                        0  \n",
       "26315                        1                        0  \n",
       "65647                        0                        0  "
      ]
     },
     "execution_count": 98,
     "metadata": {},
     "output_type": "execute_result"
    }
   ],
   "source": [
    "X_train_df.head()"
   ]
  },
  {
   "cell_type": "code",
   "execution_count": 99,
   "metadata": {},
   "outputs": [
    {
     "data": {
      "text/plain": [
       "18104    1\n",
       "66524    1\n",
       "63076    1\n",
       "26315    1\n",
       "65647    1\n",
       "Name: satisfaction_satisfied, dtype: uint8"
      ]
     },
     "execution_count": 99,
     "metadata": {},
     "output_type": "execute_result"
    }
   ],
   "source": [
    "Y_train_df.head()"
   ]
  },
  {
   "cell_type": "code",
   "execution_count": 101,
   "metadata": {},
   "outputs": [
    {
     "data": {
      "text/plain": [
       "0    47042\n",
       "1    35833\n",
       "Name: satisfaction_satisfied, dtype: int64"
      ]
     },
     "execution_count": 101,
     "metadata": {},
     "output_type": "execute_result"
    }
   ],
   "source": [
    "Y_train_df.value_counts()"
   ]
  },
  {
   "cell_type": "code",
   "execution_count": 102,
   "metadata": {},
   "outputs": [
    {
     "data": {
      "text/plain": [
       "0    11655\n",
       "1     9064\n",
       "Name: satisfaction_satisfied, dtype: int64"
      ]
     },
     "execution_count": 102,
     "metadata": {},
     "output_type": "execute_result"
    }
   ],
   "source": [
    "Y_test_df.value_counts()"
   ]
  },
  {
   "cell_type": "code",
   "execution_count": 103,
   "metadata": {},
   "outputs": [
    {
     "data": {
      "text/plain": [
       "neutral or dissatisfied    58697\n",
       "satisfied                  44897\n",
       "Name: satisfaction, dtype: int64"
      ]
     },
     "execution_count": 103,
     "metadata": {},
     "output_type": "execute_result"
    }
   ],
   "source": [
    "airline_cleaned_df.satisfaction.value_counts()"
   ]
  },
  {
   "cell_type": "markdown",
   "metadata": {},
   "source": [
    "We can observe that 58697 out of 103594(which constitues to 56%) records represent people have neutral or dissatisfied response towards airline services, while 44897 out of 103594(which constitues to 43%) records represent people have satisfied response towards airline services. \n",
    "Similarly from the train datasets, Y_train has a distribution of 47042 out of 82875(which constitues to 56%) records represent people have neutral or dissatisfied response towards airline services, while 35833 out of 82875((which constitues to 43%) records represent people have satisfied response towards airline services. Also, in Y_test has a distribution of 11655 out of 20719((which constitues to 56%)records for dissatisfaction and 9064 out of 20719((which constitues to 43%) records for satisfaction.\n",
    "Hence we can say, the train and test datasets do represent overall data.In both train and test datasets, 0 represents\n",
    "neutral or dissatisfied and 1 represents satisfaction.We have a balanced dataset."
   ]
  },
  {
   "cell_type": "code",
   "execution_count": 104,
   "metadata": {},
   "outputs": [],
   "source": [
    "log_reg = LogisticRegression().fit(X_train_df, Y_train_df )"
   ]
  },
  {
   "cell_type": "raw",
   "metadata": {},
   "source": [
    "We have reshape(-1, 1) if data has a single feature or array."
   ]
  },
  {
   "cell_type": "code",
   "execution_count": 105,
   "metadata": {},
   "outputs": [
    {
     "data": {
      "text/plain": [
       "(82875, 1)"
      ]
     },
     "execution_count": 105,
     "metadata": {},
     "output_type": "execute_result"
    }
   ],
   "source": [
    "train_y_df = (Y_train_df.values).reshape(-1,1)\n",
    "train_y_df.shape"
   ]
  },
  {
   "cell_type": "code",
   "execution_count": 106,
   "metadata": {},
   "outputs": [
    {
     "data": {
      "text/plain": [
       "(82875,)"
      ]
     },
     "execution_count": 106,
     "metadata": {},
     "output_type": "execute_result"
    }
   ],
   "source": [
    "X_predict = log_reg.predict(X_train_df)\n",
    "X_predict.shape"
   ]
  },
  {
   "cell_type": "code",
   "execution_count": 107,
   "metadata": {},
   "outputs": [
    {
     "name": "stdout",
     "output_type": "stream",
     "text": [
      "(82875, 1)\n"
     ]
    }
   ],
   "source": [
    "predict_X = X_predict.reshape(-1,1)\n",
    "print(predict_X.shape)"
   ]
  },
  {
   "cell_type": "code",
   "execution_count": 108,
   "metadata": {},
   "outputs": [
    {
     "name": "stdout",
     "output_type": "stream",
     "text": [
      "(82875, 1)\n",
      "82875\n"
     ]
    }
   ],
   "source": [
    "train_y = (Y_train_df.values).reshape(-1,1)\n",
    "print(train_y.shape)\n",
    "print(train_y.size)"
   ]
  },
  {
   "cell_type": "code",
   "execution_count": 119,
   "metadata": {},
   "outputs": [
    {
     "name": "stdout",
     "output_type": "stream",
     "text": [
      "[[0.74354985 0.25645015]\n",
      " [0.0146957  0.9853043 ]\n",
      " [0.82969634 0.17030366]\n",
      " ...\n",
      " [0.70701142 0.29298858]\n",
      " [0.80238677 0.19761323]\n",
      " [0.00723828 0.99276172]]\n"
     ]
    }
   ],
   "source": [
    "# We need to obtain probabilities for our predictions. For this, we need to use predict_proba() function of the \n",
    "# logistic regression model we instantiated earlier during model training and predictions.\n",
    "predicted_prob1 = log_reg.predict_proba(X_train_df)\n",
    "print(predicted_probs1)"
   ]
  },
  {
   "cell_type": "code",
   "execution_count": 120,
   "metadata": {},
   "outputs": [
    {
     "data": {
      "text/plain": [
       "array([0, 1, 0, ..., 0, 0, 1], dtype=uint8)"
      ]
     },
     "execution_count": 120,
     "metadata": {},
     "output_type": "execute_result"
    }
   ],
   "source": [
    "predict_X[train_y == 1]"
   ]
  },
  {
   "cell_type": "code",
   "execution_count": 121,
   "metadata": {},
   "outputs": [
    {
     "data": {
      "text/html": [
       "<div>\n",
       "<style scoped>\n",
       "    .dataframe tbody tr th:only-of-type {\n",
       "        vertical-align: middle;\n",
       "    }\n",
       "\n",
       "    .dataframe tbody tr th {\n",
       "        vertical-align: top;\n",
       "    }\n",
       "\n",
       "    .dataframe thead th {\n",
       "        text-align: right;\n",
       "    }\n",
       "</style>\n",
       "<table border=\"1\" class=\"dataframe\">\n",
       "  <thead>\n",
       "    <tr style=\"text-align: right;\">\n",
       "      <th></th>\n",
       "      <th>0</th>\n",
       "      <th>1</th>\n",
       "      <th>Actual</th>\n",
       "      <th>Predicted</th>\n",
       "    </tr>\n",
       "  </thead>\n",
       "  <tbody>\n",
       "    <tr>\n",
       "      <th>0</th>\n",
       "      <td>0.743550</td>\n",
       "      <td>0.256450</td>\n",
       "      <td>1</td>\n",
       "      <td>0</td>\n",
       "    </tr>\n",
       "    <tr>\n",
       "      <th>1</th>\n",
       "      <td>0.014696</td>\n",
       "      <td>0.985304</td>\n",
       "      <td>1</td>\n",
       "      <td>1</td>\n",
       "    </tr>\n",
       "    <tr>\n",
       "      <th>2</th>\n",
       "      <td>0.829696</td>\n",
       "      <td>0.170304</td>\n",
       "      <td>1</td>\n",
       "      <td>0</td>\n",
       "    </tr>\n",
       "    <tr>\n",
       "      <th>3</th>\n",
       "      <td>0.331313</td>\n",
       "      <td>0.668687</td>\n",
       "      <td>1</td>\n",
       "      <td>1</td>\n",
       "    </tr>\n",
       "    <tr>\n",
       "      <th>4</th>\n",
       "      <td>0.604067</td>\n",
       "      <td>0.395933</td>\n",
       "      <td>1</td>\n",
       "      <td>0</td>\n",
       "    </tr>\n",
       "    <tr>\n",
       "      <th>5</th>\n",
       "      <td>0.008236</td>\n",
       "      <td>0.991764</td>\n",
       "      <td>1</td>\n",
       "      <td>1</td>\n",
       "    </tr>\n",
       "    <tr>\n",
       "      <th>6</th>\n",
       "      <td>0.673452</td>\n",
       "      <td>0.326548</td>\n",
       "      <td>0</td>\n",
       "      <td>0</td>\n",
       "    </tr>\n",
       "    <tr>\n",
       "      <th>7</th>\n",
       "      <td>0.610126</td>\n",
       "      <td>0.389874</td>\n",
       "      <td>0</td>\n",
       "      <td>0</td>\n",
       "    </tr>\n",
       "    <tr>\n",
       "      <th>8</th>\n",
       "      <td>0.677104</td>\n",
       "      <td>0.322896</td>\n",
       "      <td>0</td>\n",
       "      <td>0</td>\n",
       "    </tr>\n",
       "    <tr>\n",
       "      <th>9</th>\n",
       "      <td>0.640600</td>\n",
       "      <td>0.359400</td>\n",
       "      <td>1</td>\n",
       "      <td>0</td>\n",
       "    </tr>\n",
       "  </tbody>\n",
       "</table>\n",
       "</div>"
      ],
      "text/plain": [
       "          0         1  Actual  Predicted\n",
       "0  0.743550  0.256450       1          0\n",
       "1  0.014696  0.985304       1          1\n",
       "2  0.829696  0.170304       1          0\n",
       "3  0.331313  0.668687       1          1\n",
       "4  0.604067  0.395933       1          0\n",
       "5  0.008236  0.991764       1          1\n",
       "6  0.673452  0.326548       0          0\n",
       "7  0.610126  0.389874       0          0\n",
       "8  0.677104  0.322896       0          0\n",
       "9  0.640600  0.359400       1          0"
      ]
     },
     "execution_count": 121,
     "metadata": {},
     "output_type": "execute_result"
    }
   ],
   "source": [
    "#Finally, we add all three variables into a Pandas Dataframe for display purposes. \n",
    "\n",
    "np.set_printoptions(suppress=True)  # this is to prevent small values being displayed in scientific notations\n",
    "\n",
    "prob_res_df1 = pd.DataFrame(predicted_prob1)\n",
    "prob_res_df1[\"Actual\"] = train_y\n",
    "prob_res_df1[\"Predicted\"] = predict_X\n",
    "prob_res_df1.head(10)"
   ]
  },
  {
   "cell_type": "code",
   "execution_count": 122,
   "metadata": {},
   "outputs": [
    {
     "data": {
      "text/plain": [
       "(82875, 4)"
      ]
     },
     "execution_count": 122,
     "metadata": {},
     "output_type": "execute_result"
    }
   ],
   "source": [
    "prob_res_df1.shape"
   ]
  },
  {
   "cell_type": "markdown",
   "metadata": {},
   "source": [
    "The columns 0 and 1 represent preobablities of classifying satisfaction as 0 and 1. 4 out of 10 predicted and actual values didnt match, citing that model is performing more than an average accuracy level. We can actually say this on the basis of evaluation metrics.\n",
    "\n",
    "Lets consider to look at these predicted values vs. actual y values and associated probabilities. We've already generated Y-predictions in the cell above. We need to generate probabilities and then combine the predicted values, actual values and probabilities in one dataframe for display purposes. Our resulting dataframe will have 82875 cases (corresponding to test data size of 82875 records) and four columns (probabilities, Y-actual values, and Y-predicted values. For these individual columns to be combined into one dataframe, each column must have a shape of (82875,4). So we may have to reshape some of these columns"
   ]
  },
  {
   "cell_type": "code",
   "execution_count": 123,
   "metadata": {},
   "outputs": [
    {
     "name": "stdout",
     "output_type": "stream",
     "text": [
      "              precision    recall  f1-score   support\n",
      "\n",
      "           0       0.70      0.88      0.78     47042\n",
      "           1       0.76      0.50      0.60     35833\n",
      "\n",
      "    accuracy                           0.72     82875\n",
      "   macro avg       0.73      0.69      0.69     82875\n",
      "weighted avg       0.73      0.72      0.70     82875\n",
      "\n"
     ]
    }
   ],
   "source": [
    "from sklearn.metrics import classification_report\n",
    "print(classification_report(Y_train_df, X_predict))"
   ]
  },
  {
   "cell_type": "code",
   "execution_count": 124,
   "metadata": {},
   "outputs": [
    {
     "name": "stdout",
     "output_type": "stream",
     "text": [
      "Accuracy of logistic regression classifier on train set: 71.59%\n"
     ]
    }
   ],
   "source": [
    "print('Accuracy of logistic regression classifier on train set: {:.2f}%'.format(log_reg.score(X_train_df,Y_train_df)* 100, 2))"
   ]
  },
  {
   "cell_type": "code",
   "execution_count": 126,
   "metadata": {},
   "outputs": [],
   "source": [
    "Y_predict = log_reg.predict(X_test_df)"
   ]
  },
  {
   "cell_type": "code",
   "execution_count": 127,
   "metadata": {},
   "outputs": [
    {
     "data": {
      "text/plain": [
       "(20719,)"
      ]
     },
     "execution_count": 127,
     "metadata": {},
     "output_type": "execute_result"
    }
   ],
   "source": [
    "Y_predict.shape"
   ]
  },
  {
   "cell_type": "markdown",
   "metadata": {},
   "source": [
    "Let's consider to look at these predicted values vs. actual y values and associated probabilities.\n",
    "\n",
    "We've already generated Y-predictions in the cell above. We need to generate probabilities and then combine the predicted values, actual values and probabilities in one dataframe for display purposes. Our resulting dataframe will have 20719 cases (corresponding to test data size of 20719 records) and four columns (probabilities, Y-actual values, and Y-predicted values. For these individual columns to be combined into one dataframe, each column must have a shape of (20719,1). So we may have to reshape some of these columns"
   ]
  },
  {
   "cell_type": "code",
   "execution_count": 131,
   "metadata": {},
   "outputs": [
    {
     "name": "stdout",
     "output_type": "stream",
     "text": [
      "(20719, 1)\n"
     ]
    }
   ],
   "source": [
    "predict_y = Y_predict.reshape(-1,1)\n",
    "print(predict_y.shape)"
   ]
  },
  {
   "cell_type": "code",
   "execution_count": 132,
   "metadata": {},
   "outputs": [
    {
     "name": "stdout",
     "output_type": "stream",
     "text": [
      "(20719, 1)\n",
      "20719\n"
     ]
    }
   ],
   "source": [
    "test_y = (Y_test_df.values).reshape(-1,1)\n",
    "print(test_y.shape)\n",
    "print(test_y.size)"
   ]
  },
  {
   "cell_type": "code",
   "execution_count": 128,
   "metadata": {},
   "outputs": [
    {
     "name": "stdout",
     "output_type": "stream",
     "text": [
      "Accuracy of logistic regression classifier on test set: 71.38\n"
     ]
    }
   ],
   "source": [
    "print('Accuracy of logistic regression classifier on test set: {:.2f}'.format(log_reg.score(X_test_df, Y_test_df)* 100, 2))"
   ]
  },
  {
   "cell_type": "code",
   "execution_count": 130,
   "metadata": {},
   "outputs": [
    {
     "name": "stdout",
     "output_type": "stream",
     "text": [
      "[[0.00535294 0.99464706]\n",
      " [0.74319636 0.25680364]\n",
      " [0.70871323 0.29128677]\n",
      " ...\n",
      " [0.59949621 0.40050379]\n",
      " [0.82974664 0.17025336]\n",
      " [0.30135177 0.69864823]]\n"
     ]
    }
   ],
   "source": [
    "predicted_prob2 = log_reg.predict_proba(X_test_df)\n",
    "print(predicted_prob2)"
   ]
  },
  {
   "cell_type": "code",
   "execution_count": 134,
   "metadata": {},
   "outputs": [
    {
     "data": {
      "text/html": [
       "<div>\n",
       "<style scoped>\n",
       "    .dataframe tbody tr th:only-of-type {\n",
       "        vertical-align: middle;\n",
       "    }\n",
       "\n",
       "    .dataframe tbody tr th {\n",
       "        vertical-align: top;\n",
       "    }\n",
       "\n",
       "    .dataframe thead th {\n",
       "        text-align: right;\n",
       "    }\n",
       "</style>\n",
       "<table border=\"1\" class=\"dataframe\">\n",
       "  <thead>\n",
       "    <tr style=\"text-align: right;\">\n",
       "      <th></th>\n",
       "      <th>0</th>\n",
       "      <th>1</th>\n",
       "      <th>Actual</th>\n",
       "      <th>Predicted</th>\n",
       "    </tr>\n",
       "  </thead>\n",
       "  <tbody>\n",
       "    <tr>\n",
       "      <th>0</th>\n",
       "      <td>0.005353</td>\n",
       "      <td>0.994647</td>\n",
       "      <td>1</td>\n",
       "      <td>1</td>\n",
       "    </tr>\n",
       "    <tr>\n",
       "      <th>1</th>\n",
       "      <td>0.743196</td>\n",
       "      <td>0.256804</td>\n",
       "      <td>0</td>\n",
       "      <td>0</td>\n",
       "    </tr>\n",
       "    <tr>\n",
       "      <th>2</th>\n",
       "      <td>0.708713</td>\n",
       "      <td>0.291287</td>\n",
       "      <td>0</td>\n",
       "      <td>0</td>\n",
       "    </tr>\n",
       "    <tr>\n",
       "      <th>3</th>\n",
       "      <td>0.735477</td>\n",
       "      <td>0.264523</td>\n",
       "      <td>0</td>\n",
       "      <td>0</td>\n",
       "    </tr>\n",
       "    <tr>\n",
       "      <th>4</th>\n",
       "      <td>0.415314</td>\n",
       "      <td>0.584686</td>\n",
       "      <td>1</td>\n",
       "      <td>1</td>\n",
       "    </tr>\n",
       "    <tr>\n",
       "      <th>5</th>\n",
       "      <td>0.674002</td>\n",
       "      <td>0.325998</td>\n",
       "      <td>1</td>\n",
       "      <td>0</td>\n",
       "    </tr>\n",
       "    <tr>\n",
       "      <th>6</th>\n",
       "      <td>0.368831</td>\n",
       "      <td>0.631169</td>\n",
       "      <td>1</td>\n",
       "      <td>1</td>\n",
       "    </tr>\n",
       "    <tr>\n",
       "      <th>7</th>\n",
       "      <td>0.813553</td>\n",
       "      <td>0.186447</td>\n",
       "      <td>0</td>\n",
       "      <td>0</td>\n",
       "    </tr>\n",
       "    <tr>\n",
       "      <th>8</th>\n",
       "      <td>0.772377</td>\n",
       "      <td>0.227623</td>\n",
       "      <td>0</td>\n",
       "      <td>0</td>\n",
       "    </tr>\n",
       "    <tr>\n",
       "      <th>9</th>\n",
       "      <td>0.461997</td>\n",
       "      <td>0.538003</td>\n",
       "      <td>1</td>\n",
       "      <td>1</td>\n",
       "    </tr>\n",
       "  </tbody>\n",
       "</table>\n",
       "</div>"
      ],
      "text/plain": [
       "          0         1  Actual  Predicted\n",
       "0  0.005353  0.994647       1          1\n",
       "1  0.743196  0.256804       0          0\n",
       "2  0.708713  0.291287       0          0\n",
       "3  0.735477  0.264523       0          0\n",
       "4  0.415314  0.584686       1          1\n",
       "5  0.674002  0.325998       1          0\n",
       "6  0.368831  0.631169       1          1\n",
       "7  0.813553  0.186447       0          0\n",
       "8  0.772377  0.227623       0          0\n",
       "9  0.461997  0.538003       1          1"
      ]
     },
     "execution_count": 134,
     "metadata": {},
     "output_type": "execute_result"
    }
   ],
   "source": [
    "np.set_printoptions(suppress=True)  # this is to prevent small values being displayed in scientific notations\n",
    "\n",
    "prob_res_df2 = pd.DataFrame(predicted_prob2)\n",
    "prob_res_df2[\"Actual\"] = test_y\n",
    "prob_res_df2[\"Predicted\"] = predict_y\n",
    "prob_res_df2.head(10)"
   ]
  },
  {
   "cell_type": "markdown",
   "metadata": {},
   "source": [
    "Based on the train and test datasets, they have nearly same accuracy percentage of about 71.59% and 71.38%  respectively.But still, train dataset has slightly higher accuracy percentage than test dataset indicates that there are meaningful differences between the kind of data we trained the model on and the testing data we are providing for evaluation.Thus, our model gives a moderate prediction on the datasets. "
   ]
  }
 ],
 "metadata": {
  "kernelspec": {
   "display_name": "Python 3",
   "language": "python",
   "name": "python3"
  },
  "language_info": {
   "codemirror_mode": {
    "name": "ipython",
    "version": 3
   },
   "file_extension": ".py",
   "mimetype": "text/x-python",
   "name": "python",
   "nbconvert_exporter": "python",
   "pygments_lexer": "ipython3",
   "version": "3.8.5"
  }
 },
 "nbformat": 4,
 "nbformat_minor": 4
}
